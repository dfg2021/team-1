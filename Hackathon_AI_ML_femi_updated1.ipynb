{
 "cells": [
  {
   "cell_type": "code",
   "execution_count": null,
   "metadata": {},
   "outputs": [],
   "source": [
    "#import libraries"
   ]
  },
  {
   "cell_type": "code",
   "execution_count": 193,
   "metadata": {},
   "outputs": [],
   "source": [
    "import pandas as pd\n",
    "import numpy as np\n",
    "import seaborn as sn\n",
    "import matplotlib.pyplot as plt\n",
    "import random\n",
    "from sklearn.preprocessing import LabelEncoder\n",
    "from sklearn.ensemble import RandomForestRegressor\n",
    "from sklearn.model_selection import train_test_split\n",
    "from sklearn.metrics import mean_squared_error\n",
    "from sklearn.metrics import r2_score"
   ]
  },
  {
   "cell_type": "code",
   "execution_count": 3,
   "metadata": {},
   "outputs": [],
   "source": [
    "Goal4 = pd.read_excel('Goal4.xlsx')"
   ]
  },
  {
   "cell_type": "code",
   "execution_count": 4,
   "metadata": {},
   "outputs": [],
   "source": [
    "code_des = pd.read_csv('Goal4-descriptions.csv')"
   ]
  },
  {
   "cell_type": "code",
   "execution_count": 5,
   "metadata": {},
   "outputs": [
    {
     "data": {
      "text/html": [
       "<div>\n",
       "<style scoped>\n",
       "    .dataframe tbody tr th:only-of-type {\n",
       "        vertical-align: middle;\n",
       "    }\n",
       "\n",
       "    .dataframe tbody tr th {\n",
       "        vertical-align: top;\n",
       "    }\n",
       "\n",
       "    .dataframe thead th {\n",
       "        text-align: right;\n",
       "    }\n",
       "</style>\n",
       "<table border=\"1\" class=\"dataframe\">\n",
       "  <thead>\n",
       "    <tr style=\"text-align: right;\">\n",
       "      <th></th>\n",
       "      <th>Dimension</th>\n",
       "      <th>Code</th>\n",
       "      <th>Description</th>\n",
       "      <th>Unnamed: 3</th>\n",
       "      <th>Unnamed: 4</th>\n",
       "      <th>Unnamed: 5</th>\n",
       "      <th>Unnamed: 6</th>\n",
       "      <th>Unnamed: 7</th>\n",
       "      <th>Unnamed: 8</th>\n",
       "      <th>Unnamed: 9</th>\n",
       "      <th>...</th>\n",
       "      <th>Unnamed: 42</th>\n",
       "      <th>Unnamed: 43</th>\n",
       "      <th>Unnamed: 44</th>\n",
       "      <th>Unnamed: 45</th>\n",
       "      <th>Unnamed: 46</th>\n",
       "      <th>Unnamed: 47</th>\n",
       "      <th>Unnamed: 48</th>\n",
       "      <th>Unnamed: 49</th>\n",
       "      <th>Unnamed: 50</th>\n",
       "      <th>Unnamed: 51</th>\n",
       "    </tr>\n",
       "  </thead>\n",
       "  <tbody>\n",
       "    <tr>\n",
       "      <th>0</th>\n",
       "      <td>Age</td>\n",
       "      <td>16-65</td>\n",
       "      <td>16 to 65 years old</td>\n",
       "      <td>NaN</td>\n",
       "      <td>NaN</td>\n",
       "      <td>NaN</td>\n",
       "      <td>NaN</td>\n",
       "      <td>NaN</td>\n",
       "      <td>NaN</td>\n",
       "      <td>NaN</td>\n",
       "      <td>...</td>\n",
       "      <td>NaN</td>\n",
       "      <td>NaN</td>\n",
       "      <td>NaN</td>\n",
       "      <td>NaN</td>\n",
       "      <td>NaN</td>\n",
       "      <td>NaN</td>\n",
       "      <td>NaN</td>\n",
       "      <td>NaN</td>\n",
       "      <td>NaN</td>\n",
       "      <td>NaN</td>\n",
       "    </tr>\n",
       "    <tr>\n",
       "      <th>1</th>\n",
       "      <td>Age</td>\n",
       "      <td>M36T47</td>\n",
       "      <td>36 to 47 months old</td>\n",
       "      <td>NaN</td>\n",
       "      <td>NaN</td>\n",
       "      <td>NaN</td>\n",
       "      <td>NaN</td>\n",
       "      <td>NaN</td>\n",
       "      <td>NaN</td>\n",
       "      <td>NaN</td>\n",
       "      <td>...</td>\n",
       "      <td>NaN</td>\n",
       "      <td>NaN</td>\n",
       "      <td>NaN</td>\n",
       "      <td>NaN</td>\n",
       "      <td>NaN</td>\n",
       "      <td>NaN</td>\n",
       "      <td>NaN</td>\n",
       "      <td>NaN</td>\n",
       "      <td>NaN</td>\n",
       "      <td>NaN</td>\n",
       "    </tr>\n",
       "    <tr>\n",
       "      <th>2</th>\n",
       "      <td>Age</td>\n",
       "      <td>M36T59</td>\n",
       "      <td>36 to 59 months old</td>\n",
       "      <td>NaN</td>\n",
       "      <td>NaN</td>\n",
       "      <td>NaN</td>\n",
       "      <td>NaN</td>\n",
       "      <td>NaN</td>\n",
       "      <td>NaN</td>\n",
       "      <td>NaN</td>\n",
       "      <td>...</td>\n",
       "      <td>NaN</td>\n",
       "      <td>NaN</td>\n",
       "      <td>NaN</td>\n",
       "      <td>NaN</td>\n",
       "      <td>NaN</td>\n",
       "      <td>NaN</td>\n",
       "      <td>NaN</td>\n",
       "      <td>NaN</td>\n",
       "      <td>NaN</td>\n",
       "      <td>NaN</td>\n",
       "    </tr>\n",
       "    <tr>\n",
       "      <th>3</th>\n",
       "      <td>Education level</td>\n",
       "      <td>_T</td>\n",
       "      <td>Total or not breakdown</td>\n",
       "      <td>NaN</td>\n",
       "      <td>NaN</td>\n",
       "      <td>NaN</td>\n",
       "      <td>NaN</td>\n",
       "      <td>NaN</td>\n",
       "      <td>NaN</td>\n",
       "      <td>NaN</td>\n",
       "      <td>...</td>\n",
       "      <td>NaN</td>\n",
       "      <td>NaN</td>\n",
       "      <td>NaN</td>\n",
       "      <td>NaN</td>\n",
       "      <td>NaN</td>\n",
       "      <td>NaN</td>\n",
       "      <td>NaN</td>\n",
       "      <td>NaN</td>\n",
       "      <td>NaN</td>\n",
       "      <td>NaN</td>\n",
       "    </tr>\n",
       "    <tr>\n",
       "      <th>4</th>\n",
       "      <td>Education level</td>\n",
       "      <td>GRAD23</td>\n",
       "      <td>Grades 2/3</td>\n",
       "      <td>NaN</td>\n",
       "      <td>NaN</td>\n",
       "      <td>NaN</td>\n",
       "      <td>NaN</td>\n",
       "      <td>NaN</td>\n",
       "      <td>NaN</td>\n",
       "      <td>NaN</td>\n",
       "      <td>...</td>\n",
       "      <td>NaN</td>\n",
       "      <td>NaN</td>\n",
       "      <td>NaN</td>\n",
       "      <td>NaN</td>\n",
       "      <td>NaN</td>\n",
       "      <td>NaN</td>\n",
       "      <td>NaN</td>\n",
       "      <td>NaN</td>\n",
       "      <td>NaN</td>\n",
       "      <td>NaN</td>\n",
       "    </tr>\n",
       "  </tbody>\n",
       "</table>\n",
       "<p>5 rows × 52 columns</p>\n",
       "</div>"
      ],
      "text/plain": [
       "         Dimension    Code             Description  Unnamed: 3  Unnamed: 4  \\\n",
       "0              Age   16-65      16 to 65 years old         NaN         NaN   \n",
       "1              Age  M36T47     36 to 47 months old         NaN         NaN   \n",
       "2              Age  M36T59     36 to 59 months old         NaN         NaN   \n",
       "3  Education level      _T  Total or not breakdown         NaN         NaN   \n",
       "4  Education level  GRAD23              Grades 2/3         NaN         NaN   \n",
       "\n",
       "   Unnamed: 5  Unnamed: 6  Unnamed: 7  Unnamed: 8  Unnamed: 9  ...  \\\n",
       "0         NaN         NaN         NaN         NaN         NaN  ...   \n",
       "1         NaN         NaN         NaN         NaN         NaN  ...   \n",
       "2         NaN         NaN         NaN         NaN         NaN  ...   \n",
       "3         NaN         NaN         NaN         NaN         NaN  ...   \n",
       "4         NaN         NaN         NaN         NaN         NaN  ...   \n",
       "\n",
       "   Unnamed: 42  Unnamed: 43  Unnamed: 44  Unnamed: 45  Unnamed: 46  \\\n",
       "0          NaN          NaN          NaN          NaN          NaN   \n",
       "1          NaN          NaN          NaN          NaN          NaN   \n",
       "2          NaN          NaN          NaN          NaN          NaN   \n",
       "3          NaN          NaN          NaN          NaN          NaN   \n",
       "4          NaN          NaN          NaN          NaN          NaN   \n",
       "\n",
       "   Unnamed: 47  Unnamed: 48  Unnamed: 49  Unnamed: 50  Unnamed: 51  \n",
       "0          NaN          NaN          NaN          NaN          NaN  \n",
       "1          NaN          NaN          NaN          NaN          NaN  \n",
       "2          NaN          NaN          NaN          NaN          NaN  \n",
       "3          NaN          NaN          NaN          NaN          NaN  \n",
       "4          NaN          NaN          NaN          NaN          NaN  \n",
       "\n",
       "[5 rows x 52 columns]"
      ]
     },
     "execution_count": 5,
     "metadata": {},
     "output_type": "execute_result"
    }
   ],
   "source": [
    "code_des.head()"
   ]
  },
  {
   "cell_type": "code",
   "execution_count": 6,
   "metadata": {
    "scrolled": false
   },
   "outputs": [
    {
     "data": {
      "text/html": [
       "<div>\n",
       "<style scoped>\n",
       "    .dataframe tbody tr th:only-of-type {\n",
       "        vertical-align: middle;\n",
       "    }\n",
       "\n",
       "    .dataframe tbody tr th {\n",
       "        vertical-align: top;\n",
       "    }\n",
       "\n",
       "    .dataframe thead th {\n",
       "        text-align: right;\n",
       "    }\n",
       "</style>\n",
       "<table border=\"1\" class=\"dataframe\">\n",
       "  <thead>\n",
       "    <tr style=\"text-align: right;\">\n",
       "      <th></th>\n",
       "      <th>Goal</th>\n",
       "      <th>Target</th>\n",
       "      <th>Indicator</th>\n",
       "      <th>SeriesCode</th>\n",
       "      <th>SeriesDescription</th>\n",
       "      <th>GeoAreaCode</th>\n",
       "      <th>GeoAreaName</th>\n",
       "      <th>TimePeriod</th>\n",
       "      <th>Value</th>\n",
       "      <th>Time_Detail</th>\n",
       "      <th>...</th>\n",
       "      <th>Unnamed: 42</th>\n",
       "      <th>Unnamed: 43</th>\n",
       "      <th>Unnamed: 44</th>\n",
       "      <th>Unnamed: 45</th>\n",
       "      <th>Unnamed: 46</th>\n",
       "      <th>Unnamed: 47</th>\n",
       "      <th>Unnamed: 48</th>\n",
       "      <th>Unnamed: 49</th>\n",
       "      <th>Unnamed: 50</th>\n",
       "      <th>Unnamed: 51</th>\n",
       "    </tr>\n",
       "  </thead>\n",
       "  <tbody>\n",
       "    <tr>\n",
       "      <th>0</th>\n",
       "      <td>4</td>\n",
       "      <td>4.1</td>\n",
       "      <td>4.1.1</td>\n",
       "      <td>SE_TOT_PRFL</td>\n",
       "      <td>Proportion of children and young people achiev...</td>\n",
       "      <td>4</td>\n",
       "      <td>Afghanistan</td>\n",
       "      <td>2013</td>\n",
       "      <td>11.0</td>\n",
       "      <td>2013</td>\n",
       "      <td>...</td>\n",
       "      <td>NaN</td>\n",
       "      <td>NaN</td>\n",
       "      <td>NaN</td>\n",
       "      <td>NaN</td>\n",
       "      <td>NaN</td>\n",
       "      <td>NaN</td>\n",
       "      <td>NaN</td>\n",
       "      <td>NaN</td>\n",
       "      <td>NaN</td>\n",
       "      <td>NaN</td>\n",
       "    </tr>\n",
       "    <tr>\n",
       "      <th>1</th>\n",
       "      <td>4</td>\n",
       "      <td>4.1</td>\n",
       "      <td>4.1.1</td>\n",
       "      <td>SE_TOT_PRFL</td>\n",
       "      <td>Proportion of children and young people achiev...</td>\n",
       "      <td>4</td>\n",
       "      <td>Afghanistan</td>\n",
       "      <td>2013</td>\n",
       "      <td>13.0</td>\n",
       "      <td>2013</td>\n",
       "      <td>...</td>\n",
       "      <td>NaN</td>\n",
       "      <td>NaN</td>\n",
       "      <td>NaN</td>\n",
       "      <td>NaN</td>\n",
       "      <td>NaN</td>\n",
       "      <td>NaN</td>\n",
       "      <td>NaN</td>\n",
       "      <td>NaN</td>\n",
       "      <td>NaN</td>\n",
       "      <td>NaN</td>\n",
       "    </tr>\n",
       "    <tr>\n",
       "      <th>2</th>\n",
       "      <td>4</td>\n",
       "      <td>4.1</td>\n",
       "      <td>4.1.1</td>\n",
       "      <td>SE_TOT_PRFL</td>\n",
       "      <td>Proportion of children and young people achiev...</td>\n",
       "      <td>4</td>\n",
       "      <td>Afghanistan</td>\n",
       "      <td>2016</td>\n",
       "      <td>21.5</td>\n",
       "      <td>2016</td>\n",
       "      <td>...</td>\n",
       "      <td>NaN</td>\n",
       "      <td>NaN</td>\n",
       "      <td>NaN</td>\n",
       "      <td>NaN</td>\n",
       "      <td>NaN</td>\n",
       "      <td>NaN</td>\n",
       "      <td>NaN</td>\n",
       "      <td>NaN</td>\n",
       "      <td>NaN</td>\n",
       "      <td>NaN</td>\n",
       "    </tr>\n",
       "    <tr>\n",
       "      <th>3</th>\n",
       "      <td>4</td>\n",
       "      <td>4.1</td>\n",
       "      <td>4.1.1</td>\n",
       "      <td>SE_TOT_PRFL</td>\n",
       "      <td>Proportion of children and young people achiev...</td>\n",
       "      <td>4</td>\n",
       "      <td>Afghanistan</td>\n",
       "      <td>2016</td>\n",
       "      <td>22.5</td>\n",
       "      <td>2016</td>\n",
       "      <td>...</td>\n",
       "      <td>NaN</td>\n",
       "      <td>NaN</td>\n",
       "      <td>NaN</td>\n",
       "      <td>NaN</td>\n",
       "      <td>NaN</td>\n",
       "      <td>NaN</td>\n",
       "      <td>NaN</td>\n",
       "      <td>NaN</td>\n",
       "      <td>NaN</td>\n",
       "      <td>NaN</td>\n",
       "    </tr>\n",
       "    <tr>\n",
       "      <th>4</th>\n",
       "      <td>4</td>\n",
       "      <td>4.1</td>\n",
       "      <td>4.1.1</td>\n",
       "      <td>SE_TOT_PRFL</td>\n",
       "      <td>Proportion of children and young people achiev...</td>\n",
       "      <td>4</td>\n",
       "      <td>Afghanistan</td>\n",
       "      <td>2016</td>\n",
       "      <td>22.0</td>\n",
       "      <td>2016</td>\n",
       "      <td>...</td>\n",
       "      <td>NaN</td>\n",
       "      <td>NaN</td>\n",
       "      <td>NaN</td>\n",
       "      <td>NaN</td>\n",
       "      <td>NaN</td>\n",
       "      <td>NaN</td>\n",
       "      <td>NaN</td>\n",
       "      <td>NaN</td>\n",
       "      <td>NaN</td>\n",
       "      <td>NaN</td>\n",
       "    </tr>\n",
       "  </tbody>\n",
       "</table>\n",
       "<p>5 rows × 52 columns</p>\n",
       "</div>"
      ],
      "text/plain": [
       "   Goal Target Indicator   SeriesCode  \\\n",
       "0     4    4.1     4.1.1  SE_TOT_PRFL   \n",
       "1     4    4.1     4.1.1  SE_TOT_PRFL   \n",
       "2     4    4.1     4.1.1  SE_TOT_PRFL   \n",
       "3     4    4.1     4.1.1  SE_TOT_PRFL   \n",
       "4     4    4.1     4.1.1  SE_TOT_PRFL   \n",
       "\n",
       "                                   SeriesDescription  GeoAreaCode  \\\n",
       "0  Proportion of children and young people achiev...            4   \n",
       "1  Proportion of children and young people achiev...            4   \n",
       "2  Proportion of children and young people achiev...            4   \n",
       "3  Proportion of children and young people achiev...            4   \n",
       "4  Proportion of children and young people achiev...            4   \n",
       "\n",
       "   GeoAreaName  TimePeriod  Value Time_Detail  ...  Unnamed: 42  Unnamed: 43  \\\n",
       "0  Afghanistan        2013   11.0        2013  ...          NaN          NaN   \n",
       "1  Afghanistan        2013   13.0        2013  ...          NaN          NaN   \n",
       "2  Afghanistan        2016   21.5        2016  ...          NaN          NaN   \n",
       "3  Afghanistan        2016   22.5        2016  ...          NaN          NaN   \n",
       "4  Afghanistan        2016   22.0        2016  ...          NaN          NaN   \n",
       "\n",
       "   Unnamed: 44  Unnamed: 45 Unnamed: 46  Unnamed: 47 Unnamed: 48 Unnamed: 49  \\\n",
       "0          NaN          NaN         NaN          NaN         NaN         NaN   \n",
       "1          NaN          NaN         NaN          NaN         NaN         NaN   \n",
       "2          NaN          NaN         NaN          NaN         NaN         NaN   \n",
       "3          NaN          NaN         NaN          NaN         NaN         NaN   \n",
       "4          NaN          NaN         NaN          NaN         NaN         NaN   \n",
       "\n",
       "  Unnamed: 50 Unnamed: 51  \n",
       "0         NaN         NaN  \n",
       "1         NaN         NaN  \n",
       "2         NaN         NaN  \n",
       "3         NaN         NaN  \n",
       "4         NaN         NaN  \n",
       "\n",
       "[5 rows x 52 columns]"
      ]
     },
     "execution_count": 6,
     "metadata": {},
     "output_type": "execute_result"
    }
   ],
   "source": [
    "Goal4.head()"
   ]
  },
  {
   "cell_type": "code",
   "execution_count": 10,
   "metadata": {},
   "outputs": [],
   "source": [
    "df = Goal4; #extra copy"
   ]
  },
  {
   "cell_type": "code",
   "execution_count": 95,
   "metadata": {},
   "outputs": [
    {
     "data": {
      "text/plain": [
       "array([2013, 2016, 2000, 2009, 2012, 2015, 2018, 2007, 2006, 2011, 2003,\n",
       "       2017, 2001, 2014, 2008, 2010, 2004, 2019, 2005, 2002, 2020])"
      ]
     },
     "execution_count": 95,
     "metadata": {},
     "output_type": "execute_result"
    }
   ],
   "source": [
    "Goal4['TimePeriod'].unique()"
   ]
  },
  {
   "cell_type": "code",
   "execution_count": 102,
   "metadata": {},
   "outputs": [
    {
     "data": {
      "text/html": [
       "<div>\n",
       "<style scoped>\n",
       "    .dataframe tbody tr th:only-of-type {\n",
       "        vertical-align: middle;\n",
       "    }\n",
       "\n",
       "    .dataframe tbody tr th {\n",
       "        vertical-align: top;\n",
       "    }\n",
       "\n",
       "    .dataframe thead th {\n",
       "        text-align: right;\n",
       "    }\n",
       "</style>\n",
       "<table border=\"1\" class=\"dataframe\">\n",
       "  <thead>\n",
       "    <tr style=\"text-align: right;\">\n",
       "      <th></th>\n",
       "      <th>Goal</th>\n",
       "      <th>Target</th>\n",
       "      <th>Indicator</th>\n",
       "      <th>SeriesCode</th>\n",
       "      <th>SeriesDescription</th>\n",
       "      <th>GeoAreaCode</th>\n",
       "      <th>GeoAreaName</th>\n",
       "      <th>TimePeriod</th>\n",
       "      <th>Value</th>\n",
       "      <th>Time_Detail</th>\n",
       "      <th>Source</th>\n",
       "      <th>Education level</th>\n",
       "      <th>Location</th>\n",
       "      <th>Nature</th>\n",
       "      <th>Quantile</th>\n",
       "      <th>Reporting Type</th>\n",
       "      <th>Sex</th>\n",
       "      <th>Units</th>\n",
       "    </tr>\n",
       "  </thead>\n",
       "  <tbody>\n",
       "  </tbody>\n",
       "</table>\n",
       "</div>"
      ],
      "text/plain": [
       "Empty DataFrame\n",
       "Columns: [Goal, Target, Indicator, SeriesCode, SeriesDescription, GeoAreaCode, GeoAreaName, TimePeriod, Value, Time_Detail, Source, Education level, Location, Nature, Quantile, Reporting Type, Sex, Units]\n",
       "Index: []"
      ]
     },
     "execution_count": 102,
     "metadata": {},
     "output_type": "execute_result"
    }
   ],
   "source": [
    "final_2018.query('Value != 0 and TimePeriod == 2019')"
   ]
  },
  {
   "cell_type": "code",
   "execution_count": 11,
   "metadata": {},
   "outputs": [
    {
     "data": {
      "text/plain": [
       "(191762, 52)"
      ]
     },
     "execution_count": 11,
     "metadata": {},
     "output_type": "execute_result"
    }
   ],
   "source": [
    "df.shape"
   ]
  },
  {
   "cell_type": "code",
   "execution_count": 12,
   "metadata": {
    "scrolled": true
   },
   "outputs": [
    {
     "data": {
      "text/plain": [
       "Index(['Goal', 'Target', 'Indicator', 'SeriesCode', 'SeriesDescription',\n",
       "       'GeoAreaCode', 'GeoAreaName', 'TimePeriod', 'Value', 'Time_Detail',\n",
       "       'TimeCoverage', 'UpperBound', 'LowerBound', 'BasePeriod', 'Source',\n",
       "       'GeoInfoUrl', 'FootNote', 'Age', 'Education level', 'Location',\n",
       "       'Nature', 'Quantile', 'Reporting Type', 'Sex', 'Type of skill', 'Units',\n",
       "       'Unnamed: 26', 'Unnamed: 27', 'Unnamed: 28', 'Unnamed: 29',\n",
       "       'Unnamed: 30', 'Unnamed: 31', 'Unnamed: 32', 'Unnamed: 33',\n",
       "       'Unnamed: 34', 'Unnamed: 35', 'Unnamed: 36', 'Unnamed: 37',\n",
       "       'Unnamed: 38', 'Unnamed: 39', 'Unnamed: 40', 'Unnamed: 41',\n",
       "       'Unnamed: 42', 'Unnamed: 43', 'Unnamed: 44', 'Unnamed: 45',\n",
       "       'Unnamed: 46', 'Unnamed: 47', 'Unnamed: 48', 'Unnamed: 49',\n",
       "       'Unnamed: 50', 'Unnamed: 51'],\n",
       "      dtype='object')"
      ]
     },
     "execution_count": 12,
     "metadata": {},
     "output_type": "execute_result"
    }
   ],
   "source": [
    "df.columns"
   ]
  },
  {
   "cell_type": "code",
   "execution_count": 13,
   "metadata": {},
   "outputs": [],
   "source": [
    "new_data = df[['Goal', 'Target', 'Indicator', 'SeriesCode', 'SeriesDescription',\n",
    "       'GeoAreaCode', 'GeoAreaName', 'TimePeriod', 'Value', 'Time_Detail',\n",
    "       'TimeCoverage', 'UpperBound', 'LowerBound', 'BasePeriod', 'Source',\n",
    "       'GeoInfoUrl', 'FootNote', 'Age', 'Education level', 'Location',\n",
    "       'Nature', 'Quantile', 'Reporting Type', 'Sex', 'Type of skill', 'Units']]"
   ]
  },
  {
   "cell_type": "code",
   "execution_count": 14,
   "metadata": {},
   "outputs": [
    {
     "data": {
      "text/plain": [
       "Goal                      0\n",
       "Target                    0\n",
       "Indicator                 0\n",
       "SeriesCode                0\n",
       "SeriesDescription         0\n",
       "GeoAreaCode               0\n",
       "GeoAreaName               0\n",
       "TimePeriod                0\n",
       "Value                 12192\n",
       "Time_Detail               0\n",
       "TimeCoverage         191762\n",
       "UpperBound           191762\n",
       "LowerBound           191762\n",
       "BasePeriod           189486\n",
       "Source                    0\n",
       "GeoInfoUrl           191762\n",
       "FootNote             176950\n",
       "Age                  191281\n",
       "Education level       17879\n",
       "Location              78911\n",
       "Nature                    0\n",
       "Quantile              55387\n",
       "Reporting Type            0\n",
       "Sex                   48829\n",
       "Type of skill        175898\n",
       "Units                     0\n",
       "dtype: int64"
      ]
     },
     "execution_count": 14,
     "metadata": {},
     "output_type": "execute_result"
    }
   ],
   "source": [
    "new_data.isna().sum()"
   ]
  },
  {
   "cell_type": "code",
   "execution_count": 146,
   "metadata": {
    "scrolled": true
   },
   "outputs": [
    {
     "data": {
      "text/html": [
       "<div>\n",
       "<style scoped>\n",
       "    .dataframe tbody tr th:only-of-type {\n",
       "        vertical-align: middle;\n",
       "    }\n",
       "\n",
       "    .dataframe tbody tr th {\n",
       "        vertical-align: top;\n",
       "    }\n",
       "\n",
       "    .dataframe thead th {\n",
       "        text-align: right;\n",
       "    }\n",
       "</style>\n",
       "<table border=\"1\" class=\"dataframe\">\n",
       "  <thead>\n",
       "    <tr style=\"text-align: right;\">\n",
       "      <th></th>\n",
       "      <th>Goal</th>\n",
       "      <th>Target</th>\n",
       "      <th>Indicator</th>\n",
       "      <th>SeriesCode</th>\n",
       "      <th>SeriesDescription</th>\n",
       "      <th>GeoAreaCode</th>\n",
       "      <th>GeoAreaName</th>\n",
       "      <th>TimePeriod</th>\n",
       "      <th>Value</th>\n",
       "      <th>Time_Detail</th>\n",
       "      <th>Source</th>\n",
       "      <th>Education level</th>\n",
       "      <th>Location</th>\n",
       "      <th>Nature</th>\n",
       "      <th>Quantile</th>\n",
       "      <th>Reporting Type</th>\n",
       "      <th>Sex</th>\n",
       "      <th>Units</th>\n",
       "    </tr>\n",
       "  </thead>\n",
       "  <tbody>\n",
       "    <tr>\n",
       "      <th>0</th>\n",
       "      <td>4</td>\n",
       "      <td>4.1</td>\n",
       "      <td>4.1.1</td>\n",
       "      <td>SE_TOT_PRFL</td>\n",
       "      <td>Proportion of children and young people achiev...</td>\n",
       "      <td>4</td>\n",
       "      <td>Afghanistan</td>\n",
       "      <td>2013</td>\n",
       "      <td>11.0</td>\n",
       "      <td>2013</td>\n",
       "      <td>National Learning Assessment (NLA): Monitoring...</td>\n",
       "      <td>PRIMAR</td>\n",
       "      <td>NaN</td>\n",
       "      <td>C</td>\n",
       "      <td>NaN</td>\n",
       "      <td>G</td>\n",
       "      <td>BOTHSEX</td>\n",
       "      <td>PERCENT</td>\n",
       "    </tr>\n",
       "    <tr>\n",
       "      <th>1</th>\n",
       "      <td>4</td>\n",
       "      <td>4.1</td>\n",
       "      <td>4.1.1</td>\n",
       "      <td>SE_TOT_PRFL</td>\n",
       "      <td>Proportion of children and young people achiev...</td>\n",
       "      <td>4</td>\n",
       "      <td>Afghanistan</td>\n",
       "      <td>2013</td>\n",
       "      <td>13.0</td>\n",
       "      <td>2013</td>\n",
       "      <td>National Learning Assessment (NLA): Monitoring...</td>\n",
       "      <td>PRIMAR</td>\n",
       "      <td>NaN</td>\n",
       "      <td>C</td>\n",
       "      <td>NaN</td>\n",
       "      <td>G</td>\n",
       "      <td>BOTHSEX</td>\n",
       "      <td>PERCENT</td>\n",
       "    </tr>\n",
       "    <tr>\n",
       "      <th>2</th>\n",
       "      <td>4</td>\n",
       "      <td>4.1</td>\n",
       "      <td>4.1.1</td>\n",
       "      <td>SE_TOT_PRFL</td>\n",
       "      <td>Proportion of children and young people achiev...</td>\n",
       "      <td>4</td>\n",
       "      <td>Afghanistan</td>\n",
       "      <td>2016</td>\n",
       "      <td>21.5</td>\n",
       "      <td>2016</td>\n",
       "      <td>National Learning Assessment (NLA): Monitoring...</td>\n",
       "      <td>GRAD23</td>\n",
       "      <td>NaN</td>\n",
       "      <td>C</td>\n",
       "      <td>NaN</td>\n",
       "      <td>G</td>\n",
       "      <td>MALE</td>\n",
       "      <td>PERCENT</td>\n",
       "    </tr>\n",
       "    <tr>\n",
       "      <th>3</th>\n",
       "      <td>4</td>\n",
       "      <td>4.1</td>\n",
       "      <td>4.1.1</td>\n",
       "      <td>SE_TOT_PRFL</td>\n",
       "      <td>Proportion of children and young people achiev...</td>\n",
       "      <td>4</td>\n",
       "      <td>Afghanistan</td>\n",
       "      <td>2016</td>\n",
       "      <td>22.5</td>\n",
       "      <td>2016</td>\n",
       "      <td>National Learning Assessment (NLA): Monitoring...</td>\n",
       "      <td>GRAD23</td>\n",
       "      <td>NaN</td>\n",
       "      <td>C</td>\n",
       "      <td>NaN</td>\n",
       "      <td>G</td>\n",
       "      <td>FEMALE</td>\n",
       "      <td>PERCENT</td>\n",
       "    </tr>\n",
       "    <tr>\n",
       "      <th>4</th>\n",
       "      <td>4</td>\n",
       "      <td>4.1</td>\n",
       "      <td>4.1.1</td>\n",
       "      <td>SE_TOT_PRFL</td>\n",
       "      <td>Proportion of children and young people achiev...</td>\n",
       "      <td>4</td>\n",
       "      <td>Afghanistan</td>\n",
       "      <td>2016</td>\n",
       "      <td>22.0</td>\n",
       "      <td>2016</td>\n",
       "      <td>National Learning Assessment (NLA): Monitoring...</td>\n",
       "      <td>GRAD23</td>\n",
       "      <td>NaN</td>\n",
       "      <td>C</td>\n",
       "      <td>NaN</td>\n",
       "      <td>G</td>\n",
       "      <td>BOTHSEX</td>\n",
       "      <td>PERCENT</td>\n",
       "    </tr>\n",
       "  </tbody>\n",
       "</table>\n",
       "</div>"
      ],
      "text/plain": [
       "   Goal Target Indicator   SeriesCode  \\\n",
       "0     4    4.1     4.1.1  SE_TOT_PRFL   \n",
       "1     4    4.1     4.1.1  SE_TOT_PRFL   \n",
       "2     4    4.1     4.1.1  SE_TOT_PRFL   \n",
       "3     4    4.1     4.1.1  SE_TOT_PRFL   \n",
       "4     4    4.1     4.1.1  SE_TOT_PRFL   \n",
       "\n",
       "                                   SeriesDescription  GeoAreaCode  \\\n",
       "0  Proportion of children and young people achiev...            4   \n",
       "1  Proportion of children and young people achiev...            4   \n",
       "2  Proportion of children and young people achiev...            4   \n",
       "3  Proportion of children and young people achiev...            4   \n",
       "4  Proportion of children and young people achiev...            4   \n",
       "\n",
       "   GeoAreaName  TimePeriod  Value Time_Detail  \\\n",
       "0  Afghanistan        2013   11.0        2013   \n",
       "1  Afghanistan        2013   13.0        2013   \n",
       "2  Afghanistan        2016   21.5        2016   \n",
       "3  Afghanistan        2016   22.5        2016   \n",
       "4  Afghanistan        2016   22.0        2016   \n",
       "\n",
       "                                              Source Education level Location  \\\n",
       "0  National Learning Assessment (NLA): Monitoring...          PRIMAR      NaN   \n",
       "1  National Learning Assessment (NLA): Monitoring...          PRIMAR      NaN   \n",
       "2  National Learning Assessment (NLA): Monitoring...          GRAD23      NaN   \n",
       "3  National Learning Assessment (NLA): Monitoring...          GRAD23      NaN   \n",
       "4  National Learning Assessment (NLA): Monitoring...          GRAD23      NaN   \n",
       "\n",
       "  Nature Quantile Reporting Type      Sex    Units  \n",
       "0      C      NaN              G  BOTHSEX  PERCENT  \n",
       "1      C      NaN              G  BOTHSEX  PERCENT  \n",
       "2      C      NaN              G     MALE  PERCENT  \n",
       "3      C      NaN              G   FEMALE  PERCENT  \n",
       "4      C      NaN              G  BOTHSEX  PERCENT  "
      ]
     },
     "execution_count": 146,
     "metadata": {},
     "output_type": "execute_result"
    }
   ],
   "source": [
    "final_d = new_data[['Goal', 'Target', 'Indicator', 'SeriesCode', 'SeriesDescription',\n",
    "                    'GeoAreaCode', 'GeoAreaName', 'TimePeriod', 'Value','Time_Detail', 'Source',\n",
    "                    'Education level','Location','Nature','Quantile','Reporting Type','Sex','Units']]\n",
    "final_d.head()"
   ]
  },
  {
   "cell_type": "code",
   "execution_count": 17,
   "metadata": {
    "scrolled": true
   },
   "outputs": [
    {
     "data": {
      "text/plain": [
       "Goal                     0\n",
       "Target                   0\n",
       "Indicator                0\n",
       "SeriesCode               0\n",
       "SeriesDescription        0\n",
       "GeoAreaCode              0\n",
       "GeoAreaName              0\n",
       "TimePeriod               0\n",
       "Value                12192\n",
       "Time_Detail              0\n",
       "Source                   0\n",
       "Education level      17879\n",
       "Location             78911\n",
       "Nature                   0\n",
       "Quantile             55387\n",
       "Reporting Type           0\n",
       "Sex                  48829\n",
       "Units                    0\n",
       "dtype: int64"
      ]
     },
     "execution_count": 17,
     "metadata": {},
     "output_type": "execute_result"
    }
   ],
   "source": [
    "final_d.isna().sum()"
   ]
  },
  {
   "cell_type": "markdown",
   "metadata": {},
   "source": [
    "# <br/>\n",
    "# Value"
   ]
  },
  {
   "cell_type": "code",
   "execution_count": 18,
   "metadata": {},
   "outputs": [
    {
     "data": {
      "text/html": [
       "<div>\n",
       "<style scoped>\n",
       "    .dataframe tbody tr th:only-of-type {\n",
       "        vertical-align: middle;\n",
       "    }\n",
       "\n",
       "    .dataframe tbody tr th {\n",
       "        vertical-align: top;\n",
       "    }\n",
       "\n",
       "    .dataframe thead th {\n",
       "        text-align: right;\n",
       "    }\n",
       "</style>\n",
       "<table border=\"1\" class=\"dataframe\">\n",
       "  <thead>\n",
       "    <tr style=\"text-align: right;\">\n",
       "      <th></th>\n",
       "      <th>Goal</th>\n",
       "      <th>Target</th>\n",
       "      <th>Indicator</th>\n",
       "      <th>SeriesCode</th>\n",
       "      <th>SeriesDescription</th>\n",
       "      <th>GeoAreaCode</th>\n",
       "      <th>GeoAreaName</th>\n",
       "      <th>TimePeriod</th>\n",
       "      <th>Value</th>\n",
       "      <th>Time_Detail</th>\n",
       "      <th>Source</th>\n",
       "      <th>Education level</th>\n",
       "      <th>Location</th>\n",
       "      <th>Nature</th>\n",
       "      <th>Quantile</th>\n",
       "      <th>Reporting Type</th>\n",
       "      <th>Sex</th>\n",
       "      <th>Units</th>\n",
       "    </tr>\n",
       "  </thead>\n",
       "  <tbody>\n",
       "    <tr>\n",
       "      <th>32</th>\n",
       "      <td>4</td>\n",
       "      <td>4.1</td>\n",
       "      <td>4.1.1</td>\n",
       "      <td>SE_TOT_PRFL</td>\n",
       "      <td>Proportion of children and young people achiev...</td>\n",
       "      <td>8</td>\n",
       "      <td>Albania</td>\n",
       "      <td>2018</td>\n",
       "      <td>58.041947</td>\n",
       "      <td>2018</td>\n",
       "      <td>PISA 2018</td>\n",
       "      <td>LOWSEC</td>\n",
       "      <td>NaN</td>\n",
       "      <td>C</td>\n",
       "      <td>NaN</td>\n",
       "      <td>G</td>\n",
       "      <td>FEMALE</td>\n",
       "      <td>PERCENT</td>\n",
       "    </tr>\n",
       "    <tr>\n",
       "      <th>33</th>\n",
       "      <td>4</td>\n",
       "      <td>4.1</td>\n",
       "      <td>4.1.1</td>\n",
       "      <td>SE_TOT_PRFL</td>\n",
       "      <td>Proportion of children and young people achiev...</td>\n",
       "      <td>8</td>\n",
       "      <td>Albania</td>\n",
       "      <td>2018</td>\n",
       "      <td>47.764318</td>\n",
       "      <td>2018</td>\n",
       "      <td>PISA 2018</td>\n",
       "      <td>LOWSEC</td>\n",
       "      <td>NaN</td>\n",
       "      <td>C</td>\n",
       "      <td>NaN</td>\n",
       "      <td>G</td>\n",
       "      <td>BOTHSEX</td>\n",
       "      <td>PERCENT</td>\n",
       "    </tr>\n",
       "    <tr>\n",
       "      <th>34</th>\n",
       "      <td>4</td>\n",
       "      <td>4.1</td>\n",
       "      <td>4.1.1</td>\n",
       "      <td>SE_TOT_PRFL</td>\n",
       "      <td>Proportion of children and young people achiev...</td>\n",
       "      <td>8</td>\n",
       "      <td>Albania</td>\n",
       "      <td>2018</td>\n",
       "      <td>55.901917</td>\n",
       "      <td>2018</td>\n",
       "      <td>PISA 2018</td>\n",
       "      <td>LOWSEC</td>\n",
       "      <td>NaN</td>\n",
       "      <td>C</td>\n",
       "      <td>NaN</td>\n",
       "      <td>G</td>\n",
       "      <td>MALE</td>\n",
       "      <td>PERCENT</td>\n",
       "    </tr>\n",
       "    <tr>\n",
       "      <th>35</th>\n",
       "      <td>4</td>\n",
       "      <td>4.1</td>\n",
       "      <td>4.1.1</td>\n",
       "      <td>SE_TOT_PRFL</td>\n",
       "      <td>Proportion of children and young people achiev...</td>\n",
       "      <td>8</td>\n",
       "      <td>Albania</td>\n",
       "      <td>2018</td>\n",
       "      <td>59.424983</td>\n",
       "      <td>2018</td>\n",
       "      <td>PISA 2018</td>\n",
       "      <td>LOWSEC</td>\n",
       "      <td>NaN</td>\n",
       "      <td>C</td>\n",
       "      <td>NaN</td>\n",
       "      <td>G</td>\n",
       "      <td>FEMALE</td>\n",
       "      <td>PERCENT</td>\n",
       "    </tr>\n",
       "    <tr>\n",
       "      <th>36</th>\n",
       "      <td>4</td>\n",
       "      <td>4.1</td>\n",
       "      <td>4.1.1</td>\n",
       "      <td>SE_TOT_PRFL</td>\n",
       "      <td>Proportion of children and young people achiev...</td>\n",
       "      <td>8</td>\n",
       "      <td>Albania</td>\n",
       "      <td>2018</td>\n",
       "      <td>57.627150</td>\n",
       "      <td>2018</td>\n",
       "      <td>PISA 2018</td>\n",
       "      <td>LOWSEC</td>\n",
       "      <td>NaN</td>\n",
       "      <td>C</td>\n",
       "      <td>NaN</td>\n",
       "      <td>G</td>\n",
       "      <td>BOTHSEX</td>\n",
       "      <td>PERCENT</td>\n",
       "    </tr>\n",
       "    <tr>\n",
       "      <th>...</th>\n",
       "      <td>...</td>\n",
       "      <td>...</td>\n",
       "      <td>...</td>\n",
       "      <td>...</td>\n",
       "      <td>...</td>\n",
       "      <td>...</td>\n",
       "      <td>...</td>\n",
       "      <td>...</td>\n",
       "      <td>...</td>\n",
       "      <td>...</td>\n",
       "      <td>...</td>\n",
       "      <td>...</td>\n",
       "      <td>...</td>\n",
       "      <td>...</td>\n",
       "      <td>...</td>\n",
       "      <td>...</td>\n",
       "      <td>...</td>\n",
       "      <td>...</td>\n",
       "    </tr>\n",
       "    <tr>\n",
       "      <th>191728</th>\n",
       "      <td>4</td>\n",
       "      <td>4.c</td>\n",
       "      <td>4.c.1</td>\n",
       "      <td>SE_TRA_GRDL</td>\n",
       "      <td>Proportion of teachers who have received at le...</td>\n",
       "      <td>860</td>\n",
       "      <td>Uzbekistan</td>\n",
       "      <td>2018</td>\n",
       "      <td>98.753000</td>\n",
       "      <td>2018</td>\n",
       "      <td>UIS</td>\n",
       "      <td>PREPRI</td>\n",
       "      <td>NaN</td>\n",
       "      <td>C</td>\n",
       "      <td>NaN</td>\n",
       "      <td>G</td>\n",
       "      <td>MALE</td>\n",
       "      <td>PERCENT</td>\n",
       "    </tr>\n",
       "    <tr>\n",
       "      <th>191729</th>\n",
       "      <td>4</td>\n",
       "      <td>4.c</td>\n",
       "      <td>4.c.1</td>\n",
       "      <td>SE_TRA_GRDL</td>\n",
       "      <td>Proportion of teachers who have received at le...</td>\n",
       "      <td>860</td>\n",
       "      <td>Uzbekistan</td>\n",
       "      <td>2018</td>\n",
       "      <td>98.755910</td>\n",
       "      <td>2018</td>\n",
       "      <td>UIS</td>\n",
       "      <td>PREPRI</td>\n",
       "      <td>NaN</td>\n",
       "      <td>C</td>\n",
       "      <td>NaN</td>\n",
       "      <td>G</td>\n",
       "      <td>BOTHSEX</td>\n",
       "      <td>PERCENT</td>\n",
       "    </tr>\n",
       "    <tr>\n",
       "      <th>191747</th>\n",
       "      <td>4</td>\n",
       "      <td>4.c</td>\n",
       "      <td>4.c.1</td>\n",
       "      <td>SE_TRA_GRDL</td>\n",
       "      <td>Proportion of teachers who have received at le...</td>\n",
       "      <td>882</td>\n",
       "      <td>Samoa</td>\n",
       "      <td>2018</td>\n",
       "      <td>100.000000</td>\n",
       "      <td>2018</td>\n",
       "      <td>UIS</td>\n",
       "      <td>PREPRI</td>\n",
       "      <td>NaN</td>\n",
       "      <td>C</td>\n",
       "      <td>NaN</td>\n",
       "      <td>G</td>\n",
       "      <td>BOTHSEX</td>\n",
       "      <td>PERCENT</td>\n",
       "    </tr>\n",
       "    <tr>\n",
       "      <th>191748</th>\n",
       "      <td>4</td>\n",
       "      <td>4.c</td>\n",
       "      <td>4.c.1</td>\n",
       "      <td>SE_TRA_GRDL</td>\n",
       "      <td>Proportion of teachers who have received at le...</td>\n",
       "      <td>882</td>\n",
       "      <td>Samoa</td>\n",
       "      <td>2018</td>\n",
       "      <td>100.000000</td>\n",
       "      <td>2018</td>\n",
       "      <td>UIS</td>\n",
       "      <td>PREPRI</td>\n",
       "      <td>NaN</td>\n",
       "      <td>C</td>\n",
       "      <td>NaN</td>\n",
       "      <td>G</td>\n",
       "      <td>FEMALE</td>\n",
       "      <td>PERCENT</td>\n",
       "    </tr>\n",
       "    <tr>\n",
       "      <th>191749</th>\n",
       "      <td>4</td>\n",
       "      <td>4.c</td>\n",
       "      <td>4.c.1</td>\n",
       "      <td>SE_TRA_GRDL</td>\n",
       "      <td>Proportion of teachers who have received at le...</td>\n",
       "      <td>882</td>\n",
       "      <td>Samoa</td>\n",
       "      <td>2018</td>\n",
       "      <td>100.000000</td>\n",
       "      <td>2018</td>\n",
       "      <td>UIS</td>\n",
       "      <td>PREPRI</td>\n",
       "      <td>NaN</td>\n",
       "      <td>C</td>\n",
       "      <td>NaN</td>\n",
       "      <td>G</td>\n",
       "      <td>MALE</td>\n",
       "      <td>PERCENT</td>\n",
       "    </tr>\n",
       "  </tbody>\n",
       "</table>\n",
       "<p>9874 rows × 18 columns</p>\n",
       "</div>"
      ],
      "text/plain": [
       "        Goal Target Indicator   SeriesCode  \\\n",
       "32         4    4.1     4.1.1  SE_TOT_PRFL   \n",
       "33         4    4.1     4.1.1  SE_TOT_PRFL   \n",
       "34         4    4.1     4.1.1  SE_TOT_PRFL   \n",
       "35         4    4.1     4.1.1  SE_TOT_PRFL   \n",
       "36         4    4.1     4.1.1  SE_TOT_PRFL   \n",
       "...      ...    ...       ...          ...   \n",
       "191728     4    4.c     4.c.1  SE_TRA_GRDL   \n",
       "191729     4    4.c     4.c.1  SE_TRA_GRDL   \n",
       "191747     4    4.c     4.c.1  SE_TRA_GRDL   \n",
       "191748     4    4.c     4.c.1  SE_TRA_GRDL   \n",
       "191749     4    4.c     4.c.1  SE_TRA_GRDL   \n",
       "\n",
       "                                        SeriesDescription  GeoAreaCode  \\\n",
       "32      Proportion of children and young people achiev...            8   \n",
       "33      Proportion of children and young people achiev...            8   \n",
       "34      Proportion of children and young people achiev...            8   \n",
       "35      Proportion of children and young people achiev...            8   \n",
       "36      Proportion of children and young people achiev...            8   \n",
       "...                                                   ...          ...   \n",
       "191728  Proportion of teachers who have received at le...          860   \n",
       "191729  Proportion of teachers who have received at le...          860   \n",
       "191747  Proportion of teachers who have received at le...          882   \n",
       "191748  Proportion of teachers who have received at le...          882   \n",
       "191749  Proportion of teachers who have received at le...          882   \n",
       "\n",
       "       GeoAreaName  TimePeriod       Value Time_Detail     Source  \\\n",
       "32         Albania        2018   58.041947        2018  PISA 2018   \n",
       "33         Albania        2018   47.764318        2018  PISA 2018   \n",
       "34         Albania        2018   55.901917        2018  PISA 2018   \n",
       "35         Albania        2018   59.424983        2018  PISA 2018   \n",
       "36         Albania        2018   57.627150        2018  PISA 2018   \n",
       "...            ...         ...         ...         ...        ...   \n",
       "191728  Uzbekistan        2018   98.753000        2018        UIS   \n",
       "191729  Uzbekistan        2018   98.755910        2018        UIS   \n",
       "191747       Samoa        2018  100.000000        2018        UIS   \n",
       "191748       Samoa        2018  100.000000        2018        UIS   \n",
       "191749       Samoa        2018  100.000000        2018        UIS   \n",
       "\n",
       "       Education level Location Nature Quantile Reporting Type      Sex  \\\n",
       "32              LOWSEC      NaN      C      NaN              G   FEMALE   \n",
       "33              LOWSEC      NaN      C      NaN              G  BOTHSEX   \n",
       "34              LOWSEC      NaN      C      NaN              G     MALE   \n",
       "35              LOWSEC      NaN      C      NaN              G   FEMALE   \n",
       "36              LOWSEC      NaN      C      NaN              G  BOTHSEX   \n",
       "...                ...      ...    ...      ...            ...      ...   \n",
       "191728          PREPRI      NaN      C      NaN              G     MALE   \n",
       "191729          PREPRI      NaN      C      NaN              G  BOTHSEX   \n",
       "191747          PREPRI      NaN      C      NaN              G  BOTHSEX   \n",
       "191748          PREPRI      NaN      C      NaN              G   FEMALE   \n",
       "191749          PREPRI      NaN      C      NaN              G     MALE   \n",
       "\n",
       "          Units  \n",
       "32      PERCENT  \n",
       "33      PERCENT  \n",
       "34      PERCENT  \n",
       "35      PERCENT  \n",
       "36      PERCENT  \n",
       "...         ...  \n",
       "191728  PERCENT  \n",
       "191729  PERCENT  \n",
       "191747  PERCENT  \n",
       "191748  PERCENT  \n",
       "191749  PERCENT  \n",
       "\n",
       "[9874 rows x 18 columns]"
      ]
     },
     "execution_count": 18,
     "metadata": {},
     "output_type": "execute_result"
    }
   ],
   "source": [
    "final_d.query('TimePeriod == 2018')"
   ]
  },
  {
   "cell_type": "code",
   "execution_count": 19,
   "metadata": {},
   "outputs": [
    {
     "data": {
      "text/plain": [
       "(634, 18)"
      ]
     },
     "execution_count": 19,
     "metadata": {},
     "output_type": "execute_result"
    }
   ],
   "source": [
    "final_d.query('Value == 0').shape"
   ]
  },
  {
   "cell_type": "code",
   "execution_count": 20,
   "metadata": {},
   "outputs": [],
   "source": [
    "r,c = final_d.query('Value == 0').shape"
   ]
  },
  {
   "cell_type": "code",
   "execution_count": 21,
   "metadata": {},
   "outputs": [
    {
     "data": {
      "text/plain": [
       "Goal                 1.000000\n",
       "Target               1.000000\n",
       "Indicator            1.000000\n",
       "SeriesCode           1.000000\n",
       "SeriesDescription    1.000000\n",
       "GeoAreaCode          1.000000\n",
       "GeoAreaName          1.000000\n",
       "TimePeriod           1.000000\n",
       "Value                0.936421\n",
       "Time_Detail          1.000000\n",
       "Source               1.000000\n",
       "Education level      0.906765\n",
       "Location             0.588495\n",
       "Nature               1.000000\n",
       "Quantile             0.711168\n",
       "Reporting Type       1.000000\n",
       "Sex                  0.745367\n",
       "Units                1.000000\n",
       "dtype: float64"
      ]
     },
     "execution_count": 21,
     "metadata": {},
     "output_type": "execute_result"
    }
   ],
   "source": [
    "final_d.notnull().mean()"
   ]
  },
  {
   "cell_type": "code",
   "execution_count": 32,
   "metadata": {},
   "outputs": [],
   "source": [
    "final_mean = final_d"
   ]
  },
  {
   "cell_type": "code",
   "execution_count": 33,
   "metadata": {
    "scrolled": true
   },
   "outputs": [],
   "source": [
    "final_2018 = final_mean.query('TimePeriod == 2018')"
   ]
  },
  {
   "cell_type": "code",
   "execution_count": 34,
   "metadata": {
    "scrolled": true
   },
   "outputs": [
    {
     "data": {
      "text/html": [
       "<div>\n",
       "<style scoped>\n",
       "    .dataframe tbody tr th:only-of-type {\n",
       "        vertical-align: middle;\n",
       "    }\n",
       "\n",
       "    .dataframe tbody tr th {\n",
       "        vertical-align: top;\n",
       "    }\n",
       "\n",
       "    .dataframe thead th {\n",
       "        text-align: right;\n",
       "    }\n",
       "</style>\n",
       "<table border=\"1\" class=\"dataframe\">\n",
       "  <thead>\n",
       "    <tr style=\"text-align: right;\">\n",
       "      <th></th>\n",
       "      <th>Goal</th>\n",
       "      <th>Target</th>\n",
       "      <th>Indicator</th>\n",
       "      <th>SeriesCode</th>\n",
       "      <th>SeriesDescription</th>\n",
       "      <th>GeoAreaCode</th>\n",
       "      <th>GeoAreaName</th>\n",
       "      <th>TimePeriod</th>\n",
       "      <th>Value</th>\n",
       "      <th>Time_Detail</th>\n",
       "      <th>Source</th>\n",
       "      <th>Education level</th>\n",
       "      <th>Location</th>\n",
       "      <th>Nature</th>\n",
       "      <th>Quantile</th>\n",
       "      <th>Reporting Type</th>\n",
       "      <th>Sex</th>\n",
       "      <th>Units</th>\n",
       "    </tr>\n",
       "  </thead>\n",
       "  <tbody>\n",
       "    <tr>\n",
       "      <th>32</th>\n",
       "      <td>4</td>\n",
       "      <td>4.1</td>\n",
       "      <td>4.1.1</td>\n",
       "      <td>SE_TOT_PRFL</td>\n",
       "      <td>Proportion of children and young people achiev...</td>\n",
       "      <td>8</td>\n",
       "      <td>Albania</td>\n",
       "      <td>2018</td>\n",
       "      <td>58.041947</td>\n",
       "      <td>2018</td>\n",
       "      <td>PISA 2018</td>\n",
       "      <td>LOWSEC</td>\n",
       "      <td>NaN</td>\n",
       "      <td>C</td>\n",
       "      <td>NaN</td>\n",
       "      <td>G</td>\n",
       "      <td>FEMALE</td>\n",
       "      <td>PERCENT</td>\n",
       "    </tr>\n",
       "    <tr>\n",
       "      <th>33</th>\n",
       "      <td>4</td>\n",
       "      <td>4.1</td>\n",
       "      <td>4.1.1</td>\n",
       "      <td>SE_TOT_PRFL</td>\n",
       "      <td>Proportion of children and young people achiev...</td>\n",
       "      <td>8</td>\n",
       "      <td>Albania</td>\n",
       "      <td>2018</td>\n",
       "      <td>47.764318</td>\n",
       "      <td>2018</td>\n",
       "      <td>PISA 2018</td>\n",
       "      <td>LOWSEC</td>\n",
       "      <td>NaN</td>\n",
       "      <td>C</td>\n",
       "      <td>NaN</td>\n",
       "      <td>G</td>\n",
       "      <td>BOTHSEX</td>\n",
       "      <td>PERCENT</td>\n",
       "    </tr>\n",
       "    <tr>\n",
       "      <th>34</th>\n",
       "      <td>4</td>\n",
       "      <td>4.1</td>\n",
       "      <td>4.1.1</td>\n",
       "      <td>SE_TOT_PRFL</td>\n",
       "      <td>Proportion of children and young people achiev...</td>\n",
       "      <td>8</td>\n",
       "      <td>Albania</td>\n",
       "      <td>2018</td>\n",
       "      <td>55.901917</td>\n",
       "      <td>2018</td>\n",
       "      <td>PISA 2018</td>\n",
       "      <td>LOWSEC</td>\n",
       "      <td>NaN</td>\n",
       "      <td>C</td>\n",
       "      <td>NaN</td>\n",
       "      <td>G</td>\n",
       "      <td>MALE</td>\n",
       "      <td>PERCENT</td>\n",
       "    </tr>\n",
       "    <tr>\n",
       "      <th>35</th>\n",
       "      <td>4</td>\n",
       "      <td>4.1</td>\n",
       "      <td>4.1.1</td>\n",
       "      <td>SE_TOT_PRFL</td>\n",
       "      <td>Proportion of children and young people achiev...</td>\n",
       "      <td>8</td>\n",
       "      <td>Albania</td>\n",
       "      <td>2018</td>\n",
       "      <td>59.424983</td>\n",
       "      <td>2018</td>\n",
       "      <td>PISA 2018</td>\n",
       "      <td>LOWSEC</td>\n",
       "      <td>NaN</td>\n",
       "      <td>C</td>\n",
       "      <td>NaN</td>\n",
       "      <td>G</td>\n",
       "      <td>FEMALE</td>\n",
       "      <td>PERCENT</td>\n",
       "    </tr>\n",
       "    <tr>\n",
       "      <th>36</th>\n",
       "      <td>4</td>\n",
       "      <td>4.1</td>\n",
       "      <td>4.1.1</td>\n",
       "      <td>SE_TOT_PRFL</td>\n",
       "      <td>Proportion of children and young people achiev...</td>\n",
       "      <td>8</td>\n",
       "      <td>Albania</td>\n",
       "      <td>2018</td>\n",
       "      <td>57.627150</td>\n",
       "      <td>2018</td>\n",
       "      <td>PISA 2018</td>\n",
       "      <td>LOWSEC</td>\n",
       "      <td>NaN</td>\n",
       "      <td>C</td>\n",
       "      <td>NaN</td>\n",
       "      <td>G</td>\n",
       "      <td>BOTHSEX</td>\n",
       "      <td>PERCENT</td>\n",
       "    </tr>\n",
       "  </tbody>\n",
       "</table>\n",
       "</div>"
      ],
      "text/plain": [
       "    Goal Target Indicator   SeriesCode  \\\n",
       "32     4    4.1     4.1.1  SE_TOT_PRFL   \n",
       "33     4    4.1     4.1.1  SE_TOT_PRFL   \n",
       "34     4    4.1     4.1.1  SE_TOT_PRFL   \n",
       "35     4    4.1     4.1.1  SE_TOT_PRFL   \n",
       "36     4    4.1     4.1.1  SE_TOT_PRFL   \n",
       "\n",
       "                                    SeriesDescription  GeoAreaCode  \\\n",
       "32  Proportion of children and young people achiev...            8   \n",
       "33  Proportion of children and young people achiev...            8   \n",
       "34  Proportion of children and young people achiev...            8   \n",
       "35  Proportion of children and young people achiev...            8   \n",
       "36  Proportion of children and young people achiev...            8   \n",
       "\n",
       "   GeoAreaName  TimePeriod      Value Time_Detail     Source Education level  \\\n",
       "32     Albania        2018  58.041947        2018  PISA 2018          LOWSEC   \n",
       "33     Albania        2018  47.764318        2018  PISA 2018          LOWSEC   \n",
       "34     Albania        2018  55.901917        2018  PISA 2018          LOWSEC   \n",
       "35     Albania        2018  59.424983        2018  PISA 2018          LOWSEC   \n",
       "36     Albania        2018  57.627150        2018  PISA 2018          LOWSEC   \n",
       "\n",
       "   Location Nature Quantile Reporting Type      Sex    Units  \n",
       "32      NaN      C      NaN              G   FEMALE  PERCENT  \n",
       "33      NaN      C      NaN              G  BOTHSEX  PERCENT  \n",
       "34      NaN      C      NaN              G     MALE  PERCENT  \n",
       "35      NaN      C      NaN              G   FEMALE  PERCENT  \n",
       "36      NaN      C      NaN              G  BOTHSEX  PERCENT  "
      ]
     },
     "execution_count": 34,
     "metadata": {},
     "output_type": "execute_result"
    }
   ],
   "source": [
    "final_2018.head()"
   ]
  },
  {
   "cell_type": "code",
   "execution_count": 35,
   "metadata": {},
   "outputs": [
    {
     "name": "stderr",
     "output_type": "stream",
     "text": [
      "/opt/tljh/user/lib/python3.7/site-packages/pandas/core/indexing.py:1676: SettingWithCopyWarning: \n",
      "A value is trying to be set on a copy of a slice from a DataFrame.\n",
      "Try using .loc[row_indexer,col_indexer] = value instead\n",
      "\n",
      "See the caveats in the documentation: https://pandas.pydata.org/pandas-docs/stable/user_guide/indexing.html#returning-a-view-versus-a-copy\n",
      "  self._setitem_single_column(ilocs[0], value, pi)\n"
     ]
    }
   ],
   "source": [
    "final_2018.loc[:,'Value']=final_2018['Value'].fillna(value=0.936421)"
   ]
  },
  {
   "cell_type": "code",
   "execution_count": 36,
   "metadata": {},
   "outputs": [
    {
     "data": {
      "text/html": [
       "<div>\n",
       "<style scoped>\n",
       "    .dataframe tbody tr th:only-of-type {\n",
       "        vertical-align: middle;\n",
       "    }\n",
       "\n",
       "    .dataframe tbody tr th {\n",
       "        vertical-align: top;\n",
       "    }\n",
       "\n",
       "    .dataframe thead th {\n",
       "        text-align: right;\n",
       "    }\n",
       "</style>\n",
       "<table border=\"1\" class=\"dataframe\">\n",
       "  <thead>\n",
       "    <tr style=\"text-align: right;\">\n",
       "      <th></th>\n",
       "      <th>Goal</th>\n",
       "      <th>Target</th>\n",
       "      <th>Indicator</th>\n",
       "      <th>SeriesCode</th>\n",
       "      <th>SeriesDescription</th>\n",
       "      <th>GeoAreaCode</th>\n",
       "      <th>GeoAreaName</th>\n",
       "      <th>TimePeriod</th>\n",
       "      <th>Value</th>\n",
       "      <th>Time_Detail</th>\n",
       "      <th>Source</th>\n",
       "      <th>Education level</th>\n",
       "      <th>Location</th>\n",
       "      <th>Nature</th>\n",
       "      <th>Quantile</th>\n",
       "      <th>Reporting Type</th>\n",
       "      <th>Sex</th>\n",
       "      <th>Units</th>\n",
       "    </tr>\n",
       "  </thead>\n",
       "  <tbody>\n",
       "    <tr>\n",
       "      <th>32</th>\n",
       "      <td>4</td>\n",
       "      <td>4.1</td>\n",
       "      <td>4.1.1</td>\n",
       "      <td>SE_TOT_PRFL</td>\n",
       "      <td>Proportion of children and young people achiev...</td>\n",
       "      <td>8</td>\n",
       "      <td>Albania</td>\n",
       "      <td>2018</td>\n",
       "      <td>58.041947</td>\n",
       "      <td>2018</td>\n",
       "      <td>PISA 2018</td>\n",
       "      <td>LOWSEC</td>\n",
       "      <td>NaN</td>\n",
       "      <td>C</td>\n",
       "      <td>NaN</td>\n",
       "      <td>G</td>\n",
       "      <td>FEMALE</td>\n",
       "      <td>PERCENT</td>\n",
       "    </tr>\n",
       "    <tr>\n",
       "      <th>33</th>\n",
       "      <td>4</td>\n",
       "      <td>4.1</td>\n",
       "      <td>4.1.1</td>\n",
       "      <td>SE_TOT_PRFL</td>\n",
       "      <td>Proportion of children and young people achiev...</td>\n",
       "      <td>8</td>\n",
       "      <td>Albania</td>\n",
       "      <td>2018</td>\n",
       "      <td>47.764318</td>\n",
       "      <td>2018</td>\n",
       "      <td>PISA 2018</td>\n",
       "      <td>LOWSEC</td>\n",
       "      <td>NaN</td>\n",
       "      <td>C</td>\n",
       "      <td>NaN</td>\n",
       "      <td>G</td>\n",
       "      <td>BOTHSEX</td>\n",
       "      <td>PERCENT</td>\n",
       "    </tr>\n",
       "    <tr>\n",
       "      <th>34</th>\n",
       "      <td>4</td>\n",
       "      <td>4.1</td>\n",
       "      <td>4.1.1</td>\n",
       "      <td>SE_TOT_PRFL</td>\n",
       "      <td>Proportion of children and young people achiev...</td>\n",
       "      <td>8</td>\n",
       "      <td>Albania</td>\n",
       "      <td>2018</td>\n",
       "      <td>55.901917</td>\n",
       "      <td>2018</td>\n",
       "      <td>PISA 2018</td>\n",
       "      <td>LOWSEC</td>\n",
       "      <td>NaN</td>\n",
       "      <td>C</td>\n",
       "      <td>NaN</td>\n",
       "      <td>G</td>\n",
       "      <td>MALE</td>\n",
       "      <td>PERCENT</td>\n",
       "    </tr>\n",
       "    <tr>\n",
       "      <th>35</th>\n",
       "      <td>4</td>\n",
       "      <td>4.1</td>\n",
       "      <td>4.1.1</td>\n",
       "      <td>SE_TOT_PRFL</td>\n",
       "      <td>Proportion of children and young people achiev...</td>\n",
       "      <td>8</td>\n",
       "      <td>Albania</td>\n",
       "      <td>2018</td>\n",
       "      <td>59.424983</td>\n",
       "      <td>2018</td>\n",
       "      <td>PISA 2018</td>\n",
       "      <td>LOWSEC</td>\n",
       "      <td>NaN</td>\n",
       "      <td>C</td>\n",
       "      <td>NaN</td>\n",
       "      <td>G</td>\n",
       "      <td>FEMALE</td>\n",
       "      <td>PERCENT</td>\n",
       "    </tr>\n",
       "    <tr>\n",
       "      <th>36</th>\n",
       "      <td>4</td>\n",
       "      <td>4.1</td>\n",
       "      <td>4.1.1</td>\n",
       "      <td>SE_TOT_PRFL</td>\n",
       "      <td>Proportion of children and young people achiev...</td>\n",
       "      <td>8</td>\n",
       "      <td>Albania</td>\n",
       "      <td>2018</td>\n",
       "      <td>57.627150</td>\n",
       "      <td>2018</td>\n",
       "      <td>PISA 2018</td>\n",
       "      <td>LOWSEC</td>\n",
       "      <td>NaN</td>\n",
       "      <td>C</td>\n",
       "      <td>NaN</td>\n",
       "      <td>G</td>\n",
       "      <td>BOTHSEX</td>\n",
       "      <td>PERCENT</td>\n",
       "    </tr>\n",
       "  </tbody>\n",
       "</table>\n",
       "</div>"
      ],
      "text/plain": [
       "    Goal Target Indicator   SeriesCode  \\\n",
       "32     4    4.1     4.1.1  SE_TOT_PRFL   \n",
       "33     4    4.1     4.1.1  SE_TOT_PRFL   \n",
       "34     4    4.1     4.1.1  SE_TOT_PRFL   \n",
       "35     4    4.1     4.1.1  SE_TOT_PRFL   \n",
       "36     4    4.1     4.1.1  SE_TOT_PRFL   \n",
       "\n",
       "                                    SeriesDescription  GeoAreaCode  \\\n",
       "32  Proportion of children and young people achiev...            8   \n",
       "33  Proportion of children and young people achiev...            8   \n",
       "34  Proportion of children and young people achiev...            8   \n",
       "35  Proportion of children and young people achiev...            8   \n",
       "36  Proportion of children and young people achiev...            8   \n",
       "\n",
       "   GeoAreaName  TimePeriod      Value Time_Detail     Source Education level  \\\n",
       "32     Albania        2018  58.041947        2018  PISA 2018          LOWSEC   \n",
       "33     Albania        2018  47.764318        2018  PISA 2018          LOWSEC   \n",
       "34     Albania        2018  55.901917        2018  PISA 2018          LOWSEC   \n",
       "35     Albania        2018  59.424983        2018  PISA 2018          LOWSEC   \n",
       "36     Albania        2018  57.627150        2018  PISA 2018          LOWSEC   \n",
       "\n",
       "   Location Nature Quantile Reporting Type      Sex    Units  \n",
       "32      NaN      C      NaN              G   FEMALE  PERCENT  \n",
       "33      NaN      C      NaN              G  BOTHSEX  PERCENT  \n",
       "34      NaN      C      NaN              G     MALE  PERCENT  \n",
       "35      NaN      C      NaN              G   FEMALE  PERCENT  \n",
       "36      NaN      C      NaN              G  BOTHSEX  PERCENT  "
      ]
     },
     "execution_count": 36,
     "metadata": {},
     "output_type": "execute_result"
    }
   ],
   "source": [
    "final_2018.head()"
   ]
  },
  {
   "cell_type": "code",
   "execution_count": 39,
   "metadata": {},
   "outputs": [
    {
     "data": {
      "text/plain": [
       "Goal                    0\n",
       "Target                  0\n",
       "Indicator               0\n",
       "SeriesCode              0\n",
       "SeriesDescription       0\n",
       "GeoAreaCode             0\n",
       "GeoAreaName             0\n",
       "TimePeriod              0\n",
       "Value                   0\n",
       "Time_Detail             0\n",
       "Source                  0\n",
       "Education level      1479\n",
       "Location             5905\n",
       "Nature                  0\n",
       "Quantile             5041\n",
       "Reporting Type          0\n",
       "Sex                  3376\n",
       "Units                   0\n",
       "dtype: int64"
      ]
     },
     "execution_count": 39,
     "metadata": {},
     "output_type": "execute_result"
    }
   ],
   "source": [
    "final_2018.isnull().sum()"
   ]
  },
  {
   "cell_type": "code",
   "execution_count": 41,
   "metadata": {},
   "outputs": [
    {
     "data": {
      "text/plain": [
       "(9874, 18)"
      ]
     },
     "execution_count": 41,
     "metadata": {},
     "output_type": "execute_result"
    }
   ],
   "source": [
    "final_2018.shape"
   ]
  },
  {
   "cell_type": "code",
   "execution_count": 42,
   "metadata": {},
   "outputs": [
    {
     "data": {
      "text/plain": [
       "BOTHSEX    2194\n",
       "FEMALE     2167\n",
       "MALE       2137\n",
       "Name: Sex, dtype: int64"
      ]
     },
     "execution_count": 42,
     "metadata": {},
     "output_type": "execute_result"
    }
   ],
   "source": [
    "final_2018.Sex.value_counts()"
   ]
  },
  {
   "cell_type": "code",
   "execution_count": 44,
   "metadata": {},
   "outputs": [
    {
     "data": {
      "text/plain": [
       "LOWSEC    0.393687\n",
       "PRIMAR    0.281954\n",
       "UPPSEC    0.267064\n",
       "SECOND    0.028588\n",
       "PREPRI    0.024419\n",
       "GRAD23    0.004288\n",
       "Name: Education level, dtype: float64"
      ]
     },
     "execution_count": 44,
     "metadata": {},
     "output_type": "execute_result"
    }
   ],
   "source": [
    "final_2018['Education level'].value_counts(normalize=True)"
   ]
  },
  {
   "cell_type": "code",
   "execution_count": 74,
   "metadata": {},
   "outputs": [],
   "source": [
    "mask_ed = final_2018['Education level'].isnull()\n",
    "samples_ed = random.choices( final_2018['Education level'][~mask_ed].values , k = mask_ed.sum() )\n",
    "final_2018.loc[mask_ed, 'Education level'] = samples_ed"
   ]
  },
  {
   "cell_type": "code",
   "execution_count": 75,
   "metadata": {},
   "outputs": [],
   "source": [
    "mask_sex = final_2018['Sex'].isnull()\n",
    "samples_sex = random.choices( final_2018['Sex'][~mask_sex].values , k = mask_sex.sum() )\n",
    "final_2018.loc[mask_sex, 'Sex'] = samples_sex"
   ]
  },
  {
   "cell_type": "code",
   "execution_count": 76,
   "metadata": {},
   "outputs": [
    {
     "data": {
      "text/plain": [
       "BOTHSEX    0.336338\n",
       "FEMALE     0.335426\n",
       "MALE       0.328236\n",
       "Name: Sex, dtype: float64"
      ]
     },
     "execution_count": 76,
     "metadata": {},
     "output_type": "execute_result"
    }
   ],
   "source": [
    "final_2018['Sex'].value_counts(normalize=True)"
   ]
  },
  {
   "cell_type": "code",
   "execution_count": 67,
   "metadata": {},
   "outputs": [
    {
     "data": {
      "text/plain": [
       "1479"
      ]
     },
     "execution_count": 67,
     "metadata": {},
     "output_type": "execute_result"
    }
   ],
   "source": [
    "len(samples)"
   ]
  },
  {
   "cell_type": "code",
   "execution_count": 77,
   "metadata": {},
   "outputs": [
    {
     "data": {
      "text/plain": [
       "LOWSEC    0.393863\n",
       "PRIMAR    0.280535\n",
       "UPPSEC    0.266255\n",
       "SECOND    0.028965\n",
       "PREPRI    0.025218\n",
       "GRAD23    0.005165\n",
       "Name: Education level, dtype: float64"
      ]
     },
     "execution_count": 77,
     "metadata": {},
     "output_type": "execute_result"
    }
   ],
   "source": [
    "final_2018['Education level'].value_counts(normalize=True)"
   ]
  },
  {
   "cell_type": "code",
   "execution_count": 147,
   "metadata": {},
   "outputs": [
    {
     "name": "stderr",
     "output_type": "stream",
     "text": [
      "/opt/tljh/user/lib/python3.7/site-packages/pandas/core/frame.py:6599: SettingWithCopyWarning: \n",
      "A value is trying to be set on a copy of a slice from a DataFrame.\n",
      "Try using .loc[row_indexer,col_indexer] = value instead\n",
      "\n",
      "See the caveats in the documentation: https://pandas.pydata.org/pandas-docs/stable/user_guide/indexing.html#returning-a-view-versus-a-copy\n",
      "  self[col] = expressions.where(mask, this, that)\n"
     ]
    }
   ],
   "source": [
    "final_d.update(final_2018[['Education level', 'Sex', 'Value']])"
   ]
  },
  {
   "cell_type": "code",
   "execution_count": 148,
   "metadata": {},
   "outputs": [
    {
     "data": {
      "text/plain": [
       "(191762, 18)"
      ]
     },
     "execution_count": 148,
     "metadata": {},
     "output_type": "execute_result"
    }
   ],
   "source": [
    "final_d.shape"
   ]
  },
  {
   "cell_type": "code",
   "execution_count": 149,
   "metadata": {},
   "outputs": [
    {
     "data": {
      "text/plain": [
       "Goal                     0\n",
       "Target                   0\n",
       "Indicator                0\n",
       "SeriesCode               0\n",
       "SeriesDescription        0\n",
       "GeoAreaCode              0\n",
       "GeoAreaName              0\n",
       "TimePeriod               0\n",
       "Value                12086\n",
       "Time_Detail              0\n",
       "Source                   0\n",
       "Education level      16400\n",
       "Location             78911\n",
       "Nature                   0\n",
       "Quantile             55387\n",
       "Reporting Type           0\n",
       "Sex                  45453\n",
       "Units                    0\n",
       "dtype: int64"
      ]
     },
     "execution_count": 149,
     "metadata": {},
     "output_type": "execute_result"
    }
   ],
   "source": [
    "final_d.isna().sum()"
   ]
  },
  {
   "cell_type": "code",
   "execution_count": 150,
   "metadata": {},
   "outputs": [
    {
     "data": {
      "text/plain": [
       "Index(['Goal', 'Target', 'Indicator', 'SeriesCode', 'SeriesDescription',\n",
       "       'GeoAreaCode', 'GeoAreaName', 'TimePeriod', 'Value', 'Time_Detail',\n",
       "       'Source', 'Education level', 'Location', 'Nature', 'Quantile',\n",
       "       'Reporting Type', 'Sex', 'Units'],\n",
       "      dtype='object')"
      ]
     },
     "execution_count": 150,
     "metadata": {},
     "output_type": "execute_result"
    }
   ],
   "source": [
    "final_d.columns"
   ]
  },
  {
   "cell_type": "code",
   "execution_count": 151,
   "metadata": {},
   "outputs": [],
   "source": [
    "final_d = final_d[['Goal', 'Target', 'Indicator', 'SeriesCode', 'SeriesDescription',\n",
    "       'GeoAreaCode', 'GeoAreaName', 'TimePeriod', 'Value', 'Time_Detail',\n",
    "       'Source', 'Education level', 'Nature',\n",
    "       'Reporting Type', 'Sex', 'Units']]"
   ]
  },
  {
   "cell_type": "code",
   "execution_count": 152,
   "metadata": {},
   "outputs": [],
   "source": [
    "final = final_d.dropna(axis=0, how='any')"
   ]
  },
  {
   "cell_type": "code",
   "execution_count": 153,
   "metadata": {},
   "outputs": [
    {
     "data": {
      "text/plain": [
       "Goal                 0\n",
       "Target               0\n",
       "Indicator            0\n",
       "SeriesCode           0\n",
       "SeriesDescription    0\n",
       "GeoAreaCode          0\n",
       "GeoAreaName          0\n",
       "TimePeriod           0\n",
       "Value                0\n",
       "Time_Detail          0\n",
       "Source               0\n",
       "Education level      0\n",
       "Nature               0\n",
       "Reporting Type       0\n",
       "Sex                  0\n",
       "Units                0\n",
       "dtype: int64"
      ]
     },
     "execution_count": 153,
     "metadata": {},
     "output_type": "execute_result"
    }
   ],
   "source": [
    "final.isna().sum()"
   ]
  },
  {
   "cell_type": "code",
   "execution_count": 154,
   "metadata": {},
   "outputs": [
    {
     "data": {
      "text/plain": [
       "(124063, 16)"
      ]
     },
     "execution_count": 154,
     "metadata": {},
     "output_type": "execute_result"
    }
   ],
   "source": [
    "final.shape"
   ]
  },
  {
   "cell_type": "code",
   "execution_count": 155,
   "metadata": {
    "scrolled": true
   },
   "outputs": [
    {
     "data": {
      "text/html": [
       "<div>\n",
       "<style scoped>\n",
       "    .dataframe tbody tr th:only-of-type {\n",
       "        vertical-align: middle;\n",
       "    }\n",
       "\n",
       "    .dataframe tbody tr th {\n",
       "        vertical-align: top;\n",
       "    }\n",
       "\n",
       "    .dataframe thead th {\n",
       "        text-align: right;\n",
       "    }\n",
       "</style>\n",
       "<table border=\"1\" class=\"dataframe\">\n",
       "  <thead>\n",
       "    <tr style=\"text-align: right;\">\n",
       "      <th></th>\n",
       "      <th>Goal</th>\n",
       "      <th>Target</th>\n",
       "      <th>Indicator</th>\n",
       "      <th>SeriesCode</th>\n",
       "      <th>SeriesDescription</th>\n",
       "      <th>GeoAreaCode</th>\n",
       "      <th>GeoAreaName</th>\n",
       "      <th>TimePeriod</th>\n",
       "      <th>Value</th>\n",
       "      <th>Time_Detail</th>\n",
       "      <th>Source</th>\n",
       "      <th>Education level</th>\n",
       "      <th>Nature</th>\n",
       "      <th>Reporting Type</th>\n",
       "      <th>Sex</th>\n",
       "      <th>Units</th>\n",
       "    </tr>\n",
       "  </thead>\n",
       "  <tbody>\n",
       "    <tr>\n",
       "      <th>0</th>\n",
       "      <td>4</td>\n",
       "      <td>4.1</td>\n",
       "      <td>4.1.1</td>\n",
       "      <td>SE_TOT_PRFL</td>\n",
       "      <td>Proportion of children and young people achiev...</td>\n",
       "      <td>4</td>\n",
       "      <td>Afghanistan</td>\n",
       "      <td>2013</td>\n",
       "      <td>11.0</td>\n",
       "      <td>2013</td>\n",
       "      <td>National Learning Assessment (NLA): Monitoring...</td>\n",
       "      <td>PRIMAR</td>\n",
       "      <td>C</td>\n",
       "      <td>G</td>\n",
       "      <td>BOTHSEX</td>\n",
       "      <td>PERCENT</td>\n",
       "    </tr>\n",
       "    <tr>\n",
       "      <th>1</th>\n",
       "      <td>4</td>\n",
       "      <td>4.1</td>\n",
       "      <td>4.1.1</td>\n",
       "      <td>SE_TOT_PRFL</td>\n",
       "      <td>Proportion of children and young people achiev...</td>\n",
       "      <td>4</td>\n",
       "      <td>Afghanistan</td>\n",
       "      <td>2013</td>\n",
       "      <td>13.0</td>\n",
       "      <td>2013</td>\n",
       "      <td>National Learning Assessment (NLA): Monitoring...</td>\n",
       "      <td>PRIMAR</td>\n",
       "      <td>C</td>\n",
       "      <td>G</td>\n",
       "      <td>BOTHSEX</td>\n",
       "      <td>PERCENT</td>\n",
       "    </tr>\n",
       "    <tr>\n",
       "      <th>2</th>\n",
       "      <td>4</td>\n",
       "      <td>4.1</td>\n",
       "      <td>4.1.1</td>\n",
       "      <td>SE_TOT_PRFL</td>\n",
       "      <td>Proportion of children and young people achiev...</td>\n",
       "      <td>4</td>\n",
       "      <td>Afghanistan</td>\n",
       "      <td>2016</td>\n",
       "      <td>21.5</td>\n",
       "      <td>2016</td>\n",
       "      <td>National Learning Assessment (NLA): Monitoring...</td>\n",
       "      <td>GRAD23</td>\n",
       "      <td>C</td>\n",
       "      <td>G</td>\n",
       "      <td>MALE</td>\n",
       "      <td>PERCENT</td>\n",
       "    </tr>\n",
       "    <tr>\n",
       "      <th>3</th>\n",
       "      <td>4</td>\n",
       "      <td>4.1</td>\n",
       "      <td>4.1.1</td>\n",
       "      <td>SE_TOT_PRFL</td>\n",
       "      <td>Proportion of children and young people achiev...</td>\n",
       "      <td>4</td>\n",
       "      <td>Afghanistan</td>\n",
       "      <td>2016</td>\n",
       "      <td>22.5</td>\n",
       "      <td>2016</td>\n",
       "      <td>National Learning Assessment (NLA): Monitoring...</td>\n",
       "      <td>GRAD23</td>\n",
       "      <td>C</td>\n",
       "      <td>G</td>\n",
       "      <td>FEMALE</td>\n",
       "      <td>PERCENT</td>\n",
       "    </tr>\n",
       "    <tr>\n",
       "      <th>4</th>\n",
       "      <td>4</td>\n",
       "      <td>4.1</td>\n",
       "      <td>4.1.1</td>\n",
       "      <td>SE_TOT_PRFL</td>\n",
       "      <td>Proportion of children and young people achiev...</td>\n",
       "      <td>4</td>\n",
       "      <td>Afghanistan</td>\n",
       "      <td>2016</td>\n",
       "      <td>22.0</td>\n",
       "      <td>2016</td>\n",
       "      <td>National Learning Assessment (NLA): Monitoring...</td>\n",
       "      <td>GRAD23</td>\n",
       "      <td>C</td>\n",
       "      <td>G</td>\n",
       "      <td>BOTHSEX</td>\n",
       "      <td>PERCENT</td>\n",
       "    </tr>\n",
       "  </tbody>\n",
       "</table>\n",
       "</div>"
      ],
      "text/plain": [
       "   Goal Target Indicator   SeriesCode  \\\n",
       "0     4    4.1     4.1.1  SE_TOT_PRFL   \n",
       "1     4    4.1     4.1.1  SE_TOT_PRFL   \n",
       "2     4    4.1     4.1.1  SE_TOT_PRFL   \n",
       "3     4    4.1     4.1.1  SE_TOT_PRFL   \n",
       "4     4    4.1     4.1.1  SE_TOT_PRFL   \n",
       "\n",
       "                                   SeriesDescription  GeoAreaCode  \\\n",
       "0  Proportion of children and young people achiev...            4   \n",
       "1  Proportion of children and young people achiev...            4   \n",
       "2  Proportion of children and young people achiev...            4   \n",
       "3  Proportion of children and young people achiev...            4   \n",
       "4  Proportion of children and young people achiev...            4   \n",
       "\n",
       "   GeoAreaName  TimePeriod  Value Time_Detail  \\\n",
       "0  Afghanistan        2013   11.0        2013   \n",
       "1  Afghanistan        2013   13.0        2013   \n",
       "2  Afghanistan        2016   21.5        2016   \n",
       "3  Afghanistan        2016   22.5        2016   \n",
       "4  Afghanistan        2016   22.0        2016   \n",
       "\n",
       "                                              Source Education level Nature  \\\n",
       "0  National Learning Assessment (NLA): Monitoring...          PRIMAR      C   \n",
       "1  National Learning Assessment (NLA): Monitoring...          PRIMAR      C   \n",
       "2  National Learning Assessment (NLA): Monitoring...          GRAD23      C   \n",
       "3  National Learning Assessment (NLA): Monitoring...          GRAD23      C   \n",
       "4  National Learning Assessment (NLA): Monitoring...          GRAD23      C   \n",
       "\n",
       "  Reporting Type      Sex    Units  \n",
       "0              G  BOTHSEX  PERCENT  \n",
       "1              G  BOTHSEX  PERCENT  \n",
       "2              G     MALE  PERCENT  \n",
       "3              G   FEMALE  PERCENT  \n",
       "4              G  BOTHSEX  PERCENT  "
      ]
     },
     "execution_count": 155,
     "metadata": {},
     "output_type": "execute_result"
    }
   ],
   "source": [
    "final.head()"
   ]
  },
  {
   "cell_type": "code",
   "execution_count": 156,
   "metadata": {},
   "outputs": [],
   "source": [
    "final_2019 = final.query(\"TimePeriod == 2019\")"
   ]
  },
  {
   "cell_type": "code",
   "execution_count": 157,
   "metadata": {},
   "outputs": [
    {
     "data": {
      "text/plain": [
       "array([2013, 2016, 2000, 2009, 2012, 2015, 2018, 2007, 2006, 2011, 2003,\n",
       "       2017, 2001, 2014, 2008, 2010, 2004, 2019, 2005, 2002])"
      ]
     },
     "execution_count": 157,
     "metadata": {},
     "output_type": "execute_result"
    }
   ],
   "source": [
    "final[\"TimePeriod\"].unique()"
   ]
  },
  {
   "cell_type": "code",
   "execution_count": 158,
   "metadata": {},
   "outputs": [],
   "source": [
    "final_2000_2018 = final.query(\"TimePeriod != 2019 and TimePeriod != 2020\")"
   ]
  },
  {
   "cell_type": "code",
   "execution_count": 159,
   "metadata": {},
   "outputs": [
    {
     "data": {
      "text/html": [
       "<div>\n",
       "<style scoped>\n",
       "    .dataframe tbody tr th:only-of-type {\n",
       "        vertical-align: middle;\n",
       "    }\n",
       "\n",
       "    .dataframe tbody tr th {\n",
       "        vertical-align: top;\n",
       "    }\n",
       "\n",
       "    .dataframe thead th {\n",
       "        text-align: right;\n",
       "    }\n",
       "</style>\n",
       "<table border=\"1\" class=\"dataframe\">\n",
       "  <thead>\n",
       "    <tr style=\"text-align: right;\">\n",
       "      <th></th>\n",
       "      <th>Goal</th>\n",
       "      <th>Target</th>\n",
       "      <th>Indicator</th>\n",
       "      <th>SeriesCode</th>\n",
       "      <th>SeriesDescription</th>\n",
       "      <th>GeoAreaCode</th>\n",
       "      <th>GeoAreaName</th>\n",
       "      <th>TimePeriod</th>\n",
       "      <th>Value</th>\n",
       "      <th>Time_Detail</th>\n",
       "      <th>Source</th>\n",
       "      <th>Education level</th>\n",
       "      <th>Nature</th>\n",
       "      <th>Reporting Type</th>\n",
       "      <th>Sex</th>\n",
       "      <th>Units</th>\n",
       "    </tr>\n",
       "  </thead>\n",
       "  <tbody>\n",
       "    <tr>\n",
       "      <th>3403</th>\n",
       "      <td>4</td>\n",
       "      <td>4.1</td>\n",
       "      <td>4.1.1</td>\n",
       "      <td>SE_TOT_PRFL</td>\n",
       "      <td>Proportion of children and young people achiev...</td>\n",
       "      <td>716</td>\n",
       "      <td>Zimbabwe</td>\n",
       "      <td>2019</td>\n",
       "      <td>21.20000</td>\n",
       "      <td>2019</td>\n",
       "      <td>Multiple Indicator Cluster Survey (MICS6); Chi...</td>\n",
       "      <td>GRAD23</td>\n",
       "      <td>C</td>\n",
       "      <td>G</td>\n",
       "      <td>FEMALE</td>\n",
       "      <td>PERCENT</td>\n",
       "    </tr>\n",
       "    <tr>\n",
       "      <th>3404</th>\n",
       "      <td>4</td>\n",
       "      <td>4.1</td>\n",
       "      <td>4.1.1</td>\n",
       "      <td>SE_TOT_PRFL</td>\n",
       "      <td>Proportion of children and young people achiev...</td>\n",
       "      <td>716</td>\n",
       "      <td>Zimbabwe</td>\n",
       "      <td>2019</td>\n",
       "      <td>18.00000</td>\n",
       "      <td>2019</td>\n",
       "      <td>Multiple Indicator Cluster Survey (MICS6); Chi...</td>\n",
       "      <td>GRAD23</td>\n",
       "      <td>C</td>\n",
       "      <td>G</td>\n",
       "      <td>MALE</td>\n",
       "      <td>PERCENT</td>\n",
       "    </tr>\n",
       "    <tr>\n",
       "      <th>3405</th>\n",
       "      <td>4</td>\n",
       "      <td>4.1</td>\n",
       "      <td>4.1.1</td>\n",
       "      <td>SE_TOT_PRFL</td>\n",
       "      <td>Proportion of children and young people achiev...</td>\n",
       "      <td>716</td>\n",
       "      <td>Zimbabwe</td>\n",
       "      <td>2019</td>\n",
       "      <td>19.60000</td>\n",
       "      <td>2019</td>\n",
       "      <td>Multiple Indicator Cluster Survey (MICS6); Chi...</td>\n",
       "      <td>GRAD23</td>\n",
       "      <td>C</td>\n",
       "      <td>G</td>\n",
       "      <td>BOTHSEX</td>\n",
       "      <td>PERCENT</td>\n",
       "    </tr>\n",
       "    <tr>\n",
       "      <th>184403</th>\n",
       "      <td>4</td>\n",
       "      <td>4.c</td>\n",
       "      <td>4.c.1</td>\n",
       "      <td>SE_TRA_GRDL</td>\n",
       "      <td>Proportion of teachers who have received at le...</td>\n",
       "      <td>288</td>\n",
       "      <td>Ghana</td>\n",
       "      <td>2019</td>\n",
       "      <td>58.33177</td>\n",
       "      <td>2019</td>\n",
       "      <td>UIS</td>\n",
       "      <td>PRIMAR</td>\n",
       "      <td>C</td>\n",
       "      <td>G</td>\n",
       "      <td>MALE</td>\n",
       "      <td>PERCENT</td>\n",
       "    </tr>\n",
       "    <tr>\n",
       "      <th>184404</th>\n",
       "      <td>4</td>\n",
       "      <td>4.c</td>\n",
       "      <td>4.c.1</td>\n",
       "      <td>SE_TRA_GRDL</td>\n",
       "      <td>Proportion of teachers who have received at le...</td>\n",
       "      <td>288</td>\n",
       "      <td>Ghana</td>\n",
       "      <td>2019</td>\n",
       "      <td>58.64879</td>\n",
       "      <td>2019</td>\n",
       "      <td>UIS</td>\n",
       "      <td>PREPRI</td>\n",
       "      <td>C</td>\n",
       "      <td>G</td>\n",
       "      <td>BOTHSEX</td>\n",
       "      <td>PERCENT</td>\n",
       "    </tr>\n",
       "  </tbody>\n",
       "</table>\n",
       "</div>"
      ],
      "text/plain": [
       "        Goal Target Indicator   SeriesCode  \\\n",
       "3403       4    4.1     4.1.1  SE_TOT_PRFL   \n",
       "3404       4    4.1     4.1.1  SE_TOT_PRFL   \n",
       "3405       4    4.1     4.1.1  SE_TOT_PRFL   \n",
       "184403     4    4.c     4.c.1  SE_TRA_GRDL   \n",
       "184404     4    4.c     4.c.1  SE_TRA_GRDL   \n",
       "\n",
       "                                        SeriesDescription  GeoAreaCode  \\\n",
       "3403    Proportion of children and young people achiev...          716   \n",
       "3404    Proportion of children and young people achiev...          716   \n",
       "3405    Proportion of children and young people achiev...          716   \n",
       "184403  Proportion of teachers who have received at le...          288   \n",
       "184404  Proportion of teachers who have received at le...          288   \n",
       "\n",
       "       GeoAreaName  TimePeriod     Value Time_Detail  \\\n",
       "3403      Zimbabwe        2019  21.20000        2019   \n",
       "3404      Zimbabwe        2019  18.00000        2019   \n",
       "3405      Zimbabwe        2019  19.60000        2019   \n",
       "184403       Ghana        2019  58.33177        2019   \n",
       "184404       Ghana        2019  58.64879        2019   \n",
       "\n",
       "                                                   Source Education level  \\\n",
       "3403    Multiple Indicator Cluster Survey (MICS6); Chi...          GRAD23   \n",
       "3404    Multiple Indicator Cluster Survey (MICS6); Chi...          GRAD23   \n",
       "3405    Multiple Indicator Cluster Survey (MICS6); Chi...          GRAD23   \n",
       "184403                                                UIS          PRIMAR   \n",
       "184404                                                UIS          PREPRI   \n",
       "\n",
       "       Nature Reporting Type      Sex    Units  \n",
       "3403        C              G   FEMALE  PERCENT  \n",
       "3404        C              G     MALE  PERCENT  \n",
       "3405        C              G  BOTHSEX  PERCENT  \n",
       "184403      C              G     MALE  PERCENT  \n",
       "184404      C              G  BOTHSEX  PERCENT  "
      ]
     },
     "execution_count": 159,
     "metadata": {},
     "output_type": "execute_result"
    }
   ],
   "source": [
    "final_2019.head()"
   ]
  },
  {
   "cell_type": "code",
   "execution_count": 160,
   "metadata": {
    "scrolled": true
   },
   "outputs": [
    {
     "data": {
      "text/html": [
       "<div>\n",
       "<style scoped>\n",
       "    .dataframe tbody tr th:only-of-type {\n",
       "        vertical-align: middle;\n",
       "    }\n",
       "\n",
       "    .dataframe tbody tr th {\n",
       "        vertical-align: top;\n",
       "    }\n",
       "\n",
       "    .dataframe thead th {\n",
       "        text-align: right;\n",
       "    }\n",
       "</style>\n",
       "<table border=\"1\" class=\"dataframe\">\n",
       "  <thead>\n",
       "    <tr style=\"text-align: right;\">\n",
       "      <th></th>\n",
       "      <th>Goal</th>\n",
       "      <th>Target</th>\n",
       "      <th>Indicator</th>\n",
       "      <th>SeriesCode</th>\n",
       "      <th>SeriesDescription</th>\n",
       "      <th>GeoAreaCode</th>\n",
       "      <th>GeoAreaName</th>\n",
       "      <th>TimePeriod</th>\n",
       "      <th>Value</th>\n",
       "      <th>Time_Detail</th>\n",
       "      <th>Source</th>\n",
       "      <th>Education level</th>\n",
       "      <th>Nature</th>\n",
       "      <th>Reporting Type</th>\n",
       "      <th>Sex</th>\n",
       "      <th>Units</th>\n",
       "    </tr>\n",
       "  </thead>\n",
       "  <tbody>\n",
       "    <tr>\n",
       "      <th>0</th>\n",
       "      <td>4</td>\n",
       "      <td>4.1</td>\n",
       "      <td>4.1.1</td>\n",
       "      <td>SE_TOT_PRFL</td>\n",
       "      <td>Proportion of children and young people achiev...</td>\n",
       "      <td>4</td>\n",
       "      <td>Afghanistan</td>\n",
       "      <td>2013</td>\n",
       "      <td>11.0</td>\n",
       "      <td>2013</td>\n",
       "      <td>National Learning Assessment (NLA): Monitoring...</td>\n",
       "      <td>PRIMAR</td>\n",
       "      <td>C</td>\n",
       "      <td>G</td>\n",
       "      <td>BOTHSEX</td>\n",
       "      <td>PERCENT</td>\n",
       "    </tr>\n",
       "    <tr>\n",
       "      <th>1</th>\n",
       "      <td>4</td>\n",
       "      <td>4.1</td>\n",
       "      <td>4.1.1</td>\n",
       "      <td>SE_TOT_PRFL</td>\n",
       "      <td>Proportion of children and young people achiev...</td>\n",
       "      <td>4</td>\n",
       "      <td>Afghanistan</td>\n",
       "      <td>2013</td>\n",
       "      <td>13.0</td>\n",
       "      <td>2013</td>\n",
       "      <td>National Learning Assessment (NLA): Monitoring...</td>\n",
       "      <td>PRIMAR</td>\n",
       "      <td>C</td>\n",
       "      <td>G</td>\n",
       "      <td>BOTHSEX</td>\n",
       "      <td>PERCENT</td>\n",
       "    </tr>\n",
       "    <tr>\n",
       "      <th>2</th>\n",
       "      <td>4</td>\n",
       "      <td>4.1</td>\n",
       "      <td>4.1.1</td>\n",
       "      <td>SE_TOT_PRFL</td>\n",
       "      <td>Proportion of children and young people achiev...</td>\n",
       "      <td>4</td>\n",
       "      <td>Afghanistan</td>\n",
       "      <td>2016</td>\n",
       "      <td>21.5</td>\n",
       "      <td>2016</td>\n",
       "      <td>National Learning Assessment (NLA): Monitoring...</td>\n",
       "      <td>GRAD23</td>\n",
       "      <td>C</td>\n",
       "      <td>G</td>\n",
       "      <td>MALE</td>\n",
       "      <td>PERCENT</td>\n",
       "    </tr>\n",
       "    <tr>\n",
       "      <th>3</th>\n",
       "      <td>4</td>\n",
       "      <td>4.1</td>\n",
       "      <td>4.1.1</td>\n",
       "      <td>SE_TOT_PRFL</td>\n",
       "      <td>Proportion of children and young people achiev...</td>\n",
       "      <td>4</td>\n",
       "      <td>Afghanistan</td>\n",
       "      <td>2016</td>\n",
       "      <td>22.5</td>\n",
       "      <td>2016</td>\n",
       "      <td>National Learning Assessment (NLA): Monitoring...</td>\n",
       "      <td>GRAD23</td>\n",
       "      <td>C</td>\n",
       "      <td>G</td>\n",
       "      <td>FEMALE</td>\n",
       "      <td>PERCENT</td>\n",
       "    </tr>\n",
       "    <tr>\n",
       "      <th>4</th>\n",
       "      <td>4</td>\n",
       "      <td>4.1</td>\n",
       "      <td>4.1.1</td>\n",
       "      <td>SE_TOT_PRFL</td>\n",
       "      <td>Proportion of children and young people achiev...</td>\n",
       "      <td>4</td>\n",
       "      <td>Afghanistan</td>\n",
       "      <td>2016</td>\n",
       "      <td>22.0</td>\n",
       "      <td>2016</td>\n",
       "      <td>National Learning Assessment (NLA): Monitoring...</td>\n",
       "      <td>GRAD23</td>\n",
       "      <td>C</td>\n",
       "      <td>G</td>\n",
       "      <td>BOTHSEX</td>\n",
       "      <td>PERCENT</td>\n",
       "    </tr>\n",
       "  </tbody>\n",
       "</table>\n",
       "</div>"
      ],
      "text/plain": [
       "   Goal Target Indicator   SeriesCode  \\\n",
       "0     4    4.1     4.1.1  SE_TOT_PRFL   \n",
       "1     4    4.1     4.1.1  SE_TOT_PRFL   \n",
       "2     4    4.1     4.1.1  SE_TOT_PRFL   \n",
       "3     4    4.1     4.1.1  SE_TOT_PRFL   \n",
       "4     4    4.1     4.1.1  SE_TOT_PRFL   \n",
       "\n",
       "                                   SeriesDescription  GeoAreaCode  \\\n",
       "0  Proportion of children and young people achiev...            4   \n",
       "1  Proportion of children and young people achiev...            4   \n",
       "2  Proportion of children and young people achiev...            4   \n",
       "3  Proportion of children and young people achiev...            4   \n",
       "4  Proportion of children and young people achiev...            4   \n",
       "\n",
       "   GeoAreaName  TimePeriod  Value Time_Detail  \\\n",
       "0  Afghanistan        2013   11.0        2013   \n",
       "1  Afghanistan        2013   13.0        2013   \n",
       "2  Afghanistan        2016   21.5        2016   \n",
       "3  Afghanistan        2016   22.5        2016   \n",
       "4  Afghanistan        2016   22.0        2016   \n",
       "\n",
       "                                              Source Education level Nature  \\\n",
       "0  National Learning Assessment (NLA): Monitoring...          PRIMAR      C   \n",
       "1  National Learning Assessment (NLA): Monitoring...          PRIMAR      C   \n",
       "2  National Learning Assessment (NLA): Monitoring...          GRAD23      C   \n",
       "3  National Learning Assessment (NLA): Monitoring...          GRAD23      C   \n",
       "4  National Learning Assessment (NLA): Monitoring...          GRAD23      C   \n",
       "\n",
       "  Reporting Type      Sex    Units  \n",
       "0              G  BOTHSEX  PERCENT  \n",
       "1              G  BOTHSEX  PERCENT  \n",
       "2              G     MALE  PERCENT  \n",
       "3              G   FEMALE  PERCENT  \n",
       "4              G  BOTHSEX  PERCENT  "
      ]
     },
     "execution_count": 160,
     "metadata": {},
     "output_type": "execute_result"
    }
   ],
   "source": [
    "final_2000_2018.head()"
   ]
  },
  {
   "cell_type": "code",
   "execution_count": 161,
   "metadata": {},
   "outputs": [
    {
     "name": "stdout",
     "output_type": "stream",
     "text": [
      "<class 'pandas.core.frame.DataFrame'>\n",
      "Int64Index: 124006 entries, 0 to 191761\n",
      "Data columns (total 16 columns):\n",
      " #   Column             Non-Null Count   Dtype  \n",
      "---  ------             --------------   -----  \n",
      " 0   Goal               124006 non-null  int64  \n",
      " 1   Target             124006 non-null  object \n",
      " 2   Indicator          124006 non-null  object \n",
      " 3   SeriesCode         124006 non-null  object \n",
      " 4   SeriesDescription  124006 non-null  object \n",
      " 5   GeoAreaCode        124006 non-null  int64  \n",
      " 6   GeoAreaName        124006 non-null  object \n",
      " 7   TimePeriod         124006 non-null  int64  \n",
      " 8   Value              124006 non-null  float64\n",
      " 9   Time_Detail        124006 non-null  object \n",
      " 10  Source             124006 non-null  object \n",
      " 11  Education level    124006 non-null  object \n",
      " 12  Nature             124006 non-null  object \n",
      " 13  Reporting Type     124006 non-null  object \n",
      " 14  Sex                124006 non-null  object \n",
      " 15  Units              124006 non-null  object \n",
      "dtypes: float64(1), int64(3), object(12)\n",
      "memory usage: 16.1+ MB\n"
     ]
    }
   ],
   "source": [
    "final_2000_2018.info()"
   ]
  },
  {
   "cell_type": "code",
   "execution_count": 175,
   "metadata": {},
   "outputs": [
    {
     "data": {
      "text/plain": [
       "4.1.2    64414\n",
       "4.5.1    29048\n",
       "4.c.1     8516\n",
       "4.1.1     1903\n",
       "4.a.1      725\n",
       "4.4.1      603\n",
       "4.2.2      147\n",
       "4.b.1      128\n",
       "4.2.1       46\n",
       "4.3.1       12\n",
       "Name: Indicator, dtype: int64"
      ]
     },
     "execution_count": 175,
     "metadata": {},
     "output_type": "execute_result"
    }
   ],
   "source": [
    "final_2000_2018['Indicator'].value_counts()"
   ]
  },
  {
   "cell_type": "code",
   "execution_count": 162,
   "metadata": {},
   "outputs": [
    {
     "name": "stderr",
     "output_type": "stream",
     "text": [
      "/opt/tljh/user/lib/python3.7/site-packages/ipykernel_launcher.py:1: SettingWithCopyWarning: \n",
      "A value is trying to be set on a copy of a slice from a DataFrame.\n",
      "Try using .loc[row_indexer,col_indexer] = value instead\n",
      "\n",
      "See the caveats in the documentation: https://pandas.pydata.org/pandas-docs/stable/user_guide/indexing.html#returning-a-view-versus-a-copy\n",
      "  \"\"\"Entry point for launching an IPython kernel.\n"
     ]
    }
   ],
   "source": [
    "final['GeoAreaName'] = final['GeoAreaName'].astype('category')"
   ]
  },
  {
   "cell_type": "code",
   "execution_count": 163,
   "metadata": {},
   "outputs": [
    {
     "data": {
      "text/plain": [
       "0           0\n",
       "1           0\n",
       "2           0\n",
       "3           0\n",
       "4           0\n",
       "         ... \n",
       "191757    248\n",
       "191758    248\n",
       "191759    248\n",
       "191760    248\n",
       "191761    248\n",
       "Length: 124063, dtype: int16"
      ]
     },
     "execution_count": 163,
     "metadata": {},
     "output_type": "execute_result"
    }
   ],
   "source": [
    "final['GeoAreaName'].cat.codes"
   ]
  },
  {
   "cell_type": "code",
   "execution_count": 164,
   "metadata": {
    "scrolled": false
   },
   "outputs": [],
   "source": [
    "dict(enumerate(final['GeoAreaName'].cat.categories));"
   ]
  },
  {
   "cell_type": "code",
   "execution_count": 177,
   "metadata": {},
   "outputs": [],
   "source": [
    "X = final_2000_2018[[\"GeoAreaName\", \"Education level\", \"Sex\", \"Target\", \"Indicator\"]]"
   ]
  },
  {
   "cell_type": "code",
   "execution_count": 178,
   "metadata": {},
   "outputs": [
    {
     "name": "stdout",
     "output_type": "stream",
     "text": [
      "<class 'pandas.core.frame.DataFrame'>\n",
      "Int64Index: 105542 entries, 0 to 191761\n",
      "Data columns (total 5 columns):\n",
      " #   Column           Non-Null Count   Dtype \n",
      "---  ------           --------------   ----- \n",
      " 0   GeoAreaName      105542 non-null  object\n",
      " 1   Education level  105542 non-null  object\n",
      " 2   Sex              105542 non-null  object\n",
      " 3   Target           105542 non-null  object\n",
      " 4   Indicator        105542 non-null  object\n",
      "dtypes: object(5)\n",
      "memory usage: 4.8+ MB\n"
     ]
    }
   ],
   "source": [
    "X.info()"
   ]
  },
  {
   "cell_type": "code",
   "execution_count": 180,
   "metadata": {},
   "outputs": [
    {
     "name": "stderr",
     "output_type": "stream",
     "text": [
      "/opt/tljh/user/lib/python3.7/site-packages/ipykernel_launcher.py:1: SettingWithCopyWarning: \n",
      "A value is trying to be set on a copy of a slice from a DataFrame.\n",
      "Try using .loc[row_indexer,col_indexer] = value instead\n",
      "\n",
      "See the caveats in the documentation: https://pandas.pydata.org/pandas-docs/stable/user_guide/indexing.html#returning-a-view-versus-a-copy\n",
      "  \"\"\"Entry point for launching an IPython kernel.\n",
      "/opt/tljh/user/lib/python3.7/site-packages/ipykernel_launcher.py:2: SettingWithCopyWarning: \n",
      "A value is trying to be set on a copy of a slice from a DataFrame.\n",
      "Try using .loc[row_indexer,col_indexer] = value instead\n",
      "\n",
      "See the caveats in the documentation: https://pandas.pydata.org/pandas-docs/stable/user_guide/indexing.html#returning-a-view-versus-a-copy\n",
      "  \n",
      "/opt/tljh/user/lib/python3.7/site-packages/ipykernel_launcher.py:3: SettingWithCopyWarning: \n",
      "A value is trying to be set on a copy of a slice from a DataFrame.\n",
      "Try using .loc[row_indexer,col_indexer] = value instead\n",
      "\n",
      "See the caveats in the documentation: https://pandas.pydata.org/pandas-docs/stable/user_guide/indexing.html#returning-a-view-versus-a-copy\n",
      "  This is separate from the ipykernel package so we can avoid doing imports until\n",
      "/opt/tljh/user/lib/python3.7/site-packages/ipykernel_launcher.py:4: SettingWithCopyWarning: \n",
      "A value is trying to be set on a copy of a slice from a DataFrame.\n",
      "Try using .loc[row_indexer,col_indexer] = value instead\n",
      "\n",
      "See the caveats in the documentation: https://pandas.pydata.org/pandas-docs/stable/user_guide/indexing.html#returning-a-view-versus-a-copy\n",
      "  after removing the cwd from sys.path.\n",
      "/opt/tljh/user/lib/python3.7/site-packages/ipykernel_launcher.py:5: SettingWithCopyWarning: \n",
      "A value is trying to be set on a copy of a slice from a DataFrame.\n",
      "Try using .loc[row_indexer,col_indexer] = value instead\n",
      "\n",
      "See the caveats in the documentation: https://pandas.pydata.org/pandas-docs/stable/user_guide/indexing.html#returning-a-view-versus-a-copy\n",
      "  \"\"\"\n"
     ]
    }
   ],
   "source": [
    "X['GeoAreaName'] = LabelEncoder().fit_transform(X['GeoAreaName'])\n",
    "X['Education level'] = LabelEncoder().fit_transform(X['Education level'])\n",
    "X['Sex'] = LabelEncoder().fit_transform(X['Sex'])\n",
    "X['Target'] = LabelEncoder().fit_transform(X['Target'])\n",
    "X['Indicator'] = LabelEncoder().fit_transform(X['Indicator'])"
   ]
  },
  {
   "cell_type": "code",
   "execution_count": 181,
   "metadata": {},
   "outputs": [
    {
     "data": {
      "text/html": [
       "<div>\n",
       "<style scoped>\n",
       "    .dataframe tbody tr th:only-of-type {\n",
       "        vertical-align: middle;\n",
       "    }\n",
       "\n",
       "    .dataframe tbody tr th {\n",
       "        vertical-align: top;\n",
       "    }\n",
       "\n",
       "    .dataframe thead th {\n",
       "        text-align: right;\n",
       "    }\n",
       "</style>\n",
       "<table border=\"1\" class=\"dataframe\">\n",
       "  <thead>\n",
       "    <tr style=\"text-align: right;\">\n",
       "      <th></th>\n",
       "      <th>GeoAreaName</th>\n",
       "      <th>Education level</th>\n",
       "      <th>Sex</th>\n",
       "      <th>Target</th>\n",
       "      <th>Indicator</th>\n",
       "    </tr>\n",
       "  </thead>\n",
       "  <tbody>\n",
       "    <tr>\n",
       "      <th>0</th>\n",
       "      <td>0</td>\n",
       "      <td>3</td>\n",
       "      <td>0</td>\n",
       "      <td>0</td>\n",
       "      <td>0</td>\n",
       "    </tr>\n",
       "    <tr>\n",
       "      <th>1</th>\n",
       "      <td>0</td>\n",
       "      <td>3</td>\n",
       "      <td>0</td>\n",
       "      <td>0</td>\n",
       "      <td>0</td>\n",
       "    </tr>\n",
       "    <tr>\n",
       "      <th>2</th>\n",
       "      <td>0</td>\n",
       "      <td>0</td>\n",
       "      <td>2</td>\n",
       "      <td>0</td>\n",
       "      <td>0</td>\n",
       "    </tr>\n",
       "    <tr>\n",
       "      <th>3</th>\n",
       "      <td>0</td>\n",
       "      <td>0</td>\n",
       "      <td>1</td>\n",
       "      <td>0</td>\n",
       "      <td>0</td>\n",
       "    </tr>\n",
       "    <tr>\n",
       "      <th>4</th>\n",
       "      <td>0</td>\n",
       "      <td>0</td>\n",
       "      <td>0</td>\n",
       "      <td>0</td>\n",
       "      <td>0</td>\n",
       "    </tr>\n",
       "    <tr>\n",
       "      <th>...</th>\n",
       "      <td>...</td>\n",
       "      <td>...</td>\n",
       "      <td>...</td>\n",
       "      <td>...</td>\n",
       "      <td>...</td>\n",
       "    </tr>\n",
       "    <tr>\n",
       "      <th>191757</th>\n",
       "      <td>136</td>\n",
       "      <td>1</td>\n",
       "      <td>1</td>\n",
       "      <td>7</td>\n",
       "      <td>9</td>\n",
       "    </tr>\n",
       "    <tr>\n",
       "      <th>191758</th>\n",
       "      <td>136</td>\n",
       "      <td>1</td>\n",
       "      <td>2</td>\n",
       "      <td>7</td>\n",
       "      <td>9</td>\n",
       "    </tr>\n",
       "    <tr>\n",
       "      <th>191759</th>\n",
       "      <td>136</td>\n",
       "      <td>3</td>\n",
       "      <td>2</td>\n",
       "      <td>7</td>\n",
       "      <td>9</td>\n",
       "    </tr>\n",
       "    <tr>\n",
       "      <th>191760</th>\n",
       "      <td>136</td>\n",
       "      <td>3</td>\n",
       "      <td>0</td>\n",
       "      <td>7</td>\n",
       "      <td>9</td>\n",
       "    </tr>\n",
       "    <tr>\n",
       "      <th>191761</th>\n",
       "      <td>136</td>\n",
       "      <td>3</td>\n",
       "      <td>1</td>\n",
       "      <td>7</td>\n",
       "      <td>9</td>\n",
       "    </tr>\n",
       "  </tbody>\n",
       "</table>\n",
       "<p>105542 rows × 5 columns</p>\n",
       "</div>"
      ],
      "text/plain": [
       "        GeoAreaName  Education level  Sex  Target  Indicator\n",
       "0                 0                3    0       0          0\n",
       "1                 0                3    0       0          0\n",
       "2                 0                0    2       0          0\n",
       "3                 0                0    1       0          0\n",
       "4                 0                0    0       0          0\n",
       "...             ...              ...  ...     ...        ...\n",
       "191757          136                1    1       7          9\n",
       "191758          136                1    2       7          9\n",
       "191759          136                3    2       7          9\n",
       "191760          136                3    0       7          9\n",
       "191761          136                3    1       7          9\n",
       "\n",
       "[105542 rows x 5 columns]"
      ]
     },
     "execution_count": 181,
     "metadata": {},
     "output_type": "execute_result"
    }
   ],
   "source": [
    "X"
   ]
  },
  {
   "cell_type": "code",
   "execution_count": 182,
   "metadata": {},
   "outputs": [],
   "source": [
    "Y = final_2000_2018[\"Value\"]"
   ]
  },
  {
   "cell_type": "code",
   "execution_count": 183,
   "metadata": {},
   "outputs": [
    {
     "data": {
      "text/plain": [
       "0          11.00000\n",
       "1          13.00000\n",
       "2          21.50000\n",
       "3          22.50000\n",
       "4          22.00000\n",
       "            ...    \n",
       "191757     95.54508\n",
       "191758     89.71963\n",
       "191759    100.00000\n",
       "191760     98.75030\n",
       "191761     97.52328\n",
       "Name: Value, Length: 105542, dtype: float64"
      ]
     },
     "execution_count": 183,
     "metadata": {},
     "output_type": "execute_result"
    }
   ],
   "source": [
    "Y"
   ]
  },
  {
   "cell_type": "code",
   "execution_count": 184,
   "metadata": {},
   "outputs": [],
   "source": [
    "X1 = final_2019[[\"GeoAreaName\", \"Education level\", \"Sex\", \"Target\", \"Indicator\"]]"
   ]
  },
  {
   "cell_type": "code",
   "execution_count": 186,
   "metadata": {},
   "outputs": [
    {
     "name": "stderr",
     "output_type": "stream",
     "text": [
      "/opt/tljh/user/lib/python3.7/site-packages/ipykernel_launcher.py:1: SettingWithCopyWarning: \n",
      "A value is trying to be set on a copy of a slice from a DataFrame.\n",
      "Try using .loc[row_indexer,col_indexer] = value instead\n",
      "\n",
      "See the caveats in the documentation: https://pandas.pydata.org/pandas-docs/stable/user_guide/indexing.html#returning-a-view-versus-a-copy\n",
      "  \"\"\"Entry point for launching an IPython kernel.\n",
      "/opt/tljh/user/lib/python3.7/site-packages/ipykernel_launcher.py:2: SettingWithCopyWarning: \n",
      "A value is trying to be set on a copy of a slice from a DataFrame.\n",
      "Try using .loc[row_indexer,col_indexer] = value instead\n",
      "\n",
      "See the caveats in the documentation: https://pandas.pydata.org/pandas-docs/stable/user_guide/indexing.html#returning-a-view-versus-a-copy\n",
      "  \n",
      "/opt/tljh/user/lib/python3.7/site-packages/ipykernel_launcher.py:3: SettingWithCopyWarning: \n",
      "A value is trying to be set on a copy of a slice from a DataFrame.\n",
      "Try using .loc[row_indexer,col_indexer] = value instead\n",
      "\n",
      "See the caveats in the documentation: https://pandas.pydata.org/pandas-docs/stable/user_guide/indexing.html#returning-a-view-versus-a-copy\n",
      "  This is separate from the ipykernel package so we can avoid doing imports until\n",
      "/opt/tljh/user/lib/python3.7/site-packages/ipykernel_launcher.py:4: SettingWithCopyWarning: \n",
      "A value is trying to be set on a copy of a slice from a DataFrame.\n",
      "Try using .loc[row_indexer,col_indexer] = value instead\n",
      "\n",
      "See the caveats in the documentation: https://pandas.pydata.org/pandas-docs/stable/user_guide/indexing.html#returning-a-view-versus-a-copy\n",
      "  after removing the cwd from sys.path.\n",
      "/opt/tljh/user/lib/python3.7/site-packages/ipykernel_launcher.py:5: SettingWithCopyWarning: \n",
      "A value is trying to be set on a copy of a slice from a DataFrame.\n",
      "Try using .loc[row_indexer,col_indexer] = value instead\n",
      "\n",
      "See the caveats in the documentation: https://pandas.pydata.org/pandas-docs/stable/user_guide/indexing.html#returning-a-view-versus-a-copy\n",
      "  \"\"\"\n"
     ]
    }
   ],
   "source": [
    "X1['GeoAreaName'] = LabelEncoder().fit_transform(X1['GeoAreaName'])\n",
    "X1['Education level'] = LabelEncoder().fit_transform(X1['Education level'])\n",
    "X1['Sex'] = LabelEncoder().fit_transform(X1['Sex'])\n",
    "X1['Target'] = LabelEncoder().fit_transform(X1['Target'])\n",
    "X1['Indicator'] = LabelEncoder().fit_transform(X1['Indicator'])"
   ]
  },
  {
   "cell_type": "code",
   "execution_count": 187,
   "metadata": {},
   "outputs": [
    {
     "data": {
      "text/html": [
       "<div>\n",
       "<style scoped>\n",
       "    .dataframe tbody tr th:only-of-type {\n",
       "        vertical-align: middle;\n",
       "    }\n",
       "\n",
       "    .dataframe tbody tr th {\n",
       "        vertical-align: top;\n",
       "    }\n",
       "\n",
       "    .dataframe thead th {\n",
       "        text-align: right;\n",
       "    }\n",
       "</style>\n",
       "<table border=\"1\" class=\"dataframe\">\n",
       "  <thead>\n",
       "    <tr style=\"text-align: right;\">\n",
       "      <th></th>\n",
       "      <th>GeoAreaName</th>\n",
       "      <th>Education level</th>\n",
       "      <th>Sex</th>\n",
       "      <th>Target</th>\n",
       "      <th>Indicator</th>\n",
       "    </tr>\n",
       "  </thead>\n",
       "  <tbody>\n",
       "    <tr>\n",
       "      <th>3403</th>\n",
       "      <td>3</td>\n",
       "      <td>0</td>\n",
       "      <td>1</td>\n",
       "      <td>0</td>\n",
       "      <td>0</td>\n",
       "    </tr>\n",
       "    <tr>\n",
       "      <th>3404</th>\n",
       "      <td>3</td>\n",
       "      <td>0</td>\n",
       "      <td>2</td>\n",
       "      <td>0</td>\n",
       "      <td>0</td>\n",
       "    </tr>\n",
       "    <tr>\n",
       "      <th>3405</th>\n",
       "      <td>3</td>\n",
       "      <td>0</td>\n",
       "      <td>0</td>\n",
       "      <td>0</td>\n",
       "      <td>0</td>\n",
       "    </tr>\n",
       "    <tr>\n",
       "      <th>184403</th>\n",
       "      <td>0</td>\n",
       "      <td>3</td>\n",
       "      <td>2</td>\n",
       "      <td>1</td>\n",
       "      <td>1</td>\n",
       "    </tr>\n",
       "    <tr>\n",
       "      <th>184404</th>\n",
       "      <td>0</td>\n",
       "      <td>2</td>\n",
       "      <td>0</td>\n",
       "      <td>1</td>\n",
       "      <td>1</td>\n",
       "    </tr>\n",
       "    <tr>\n",
       "      <th>184405</th>\n",
       "      <td>0</td>\n",
       "      <td>3</td>\n",
       "      <td>0</td>\n",
       "      <td>1</td>\n",
       "      <td>1</td>\n",
       "    </tr>\n",
       "    <tr>\n",
       "      <th>184406</th>\n",
       "      <td>0</td>\n",
       "      <td>2</td>\n",
       "      <td>2</td>\n",
       "      <td>1</td>\n",
       "      <td>1</td>\n",
       "    </tr>\n",
       "    <tr>\n",
       "      <th>184407</th>\n",
       "      <td>0</td>\n",
       "      <td>3</td>\n",
       "      <td>1</td>\n",
       "      <td>1</td>\n",
       "      <td>1</td>\n",
       "    </tr>\n",
       "    <tr>\n",
       "      <th>184408</th>\n",
       "      <td>0</td>\n",
       "      <td>5</td>\n",
       "      <td>2</td>\n",
       "      <td>1</td>\n",
       "      <td>1</td>\n",
       "    </tr>\n",
       "    <tr>\n",
       "      <th>184409</th>\n",
       "      <td>0</td>\n",
       "      <td>5</td>\n",
       "      <td>1</td>\n",
       "      <td>1</td>\n",
       "      <td>1</td>\n",
       "    </tr>\n",
       "    <tr>\n",
       "      <th>184410</th>\n",
       "      <td>0</td>\n",
       "      <td>2</td>\n",
       "      <td>1</td>\n",
       "      <td>1</td>\n",
       "      <td>1</td>\n",
       "    </tr>\n",
       "    <tr>\n",
       "      <th>184411</th>\n",
       "      <td>0</td>\n",
       "      <td>5</td>\n",
       "      <td>0</td>\n",
       "      <td>1</td>\n",
       "      <td>1</td>\n",
       "    </tr>\n",
       "    <tr>\n",
       "      <th>185593</th>\n",
       "      <td>1</td>\n",
       "      <td>3</td>\n",
       "      <td>0</td>\n",
       "      <td>1</td>\n",
       "      <td>1</td>\n",
       "    </tr>\n",
       "    <tr>\n",
       "      <th>185594</th>\n",
       "      <td>1</td>\n",
       "      <td>3</td>\n",
       "      <td>2</td>\n",
       "      <td>1</td>\n",
       "      <td>1</td>\n",
       "    </tr>\n",
       "    <tr>\n",
       "      <th>185595</th>\n",
       "      <td>1</td>\n",
       "      <td>3</td>\n",
       "      <td>1</td>\n",
       "      <td>1</td>\n",
       "      <td>1</td>\n",
       "    </tr>\n",
       "    <tr>\n",
       "      <th>185596</th>\n",
       "      <td>1</td>\n",
       "      <td>4</td>\n",
       "      <td>2</td>\n",
       "      <td>1</td>\n",
       "      <td>1</td>\n",
       "    </tr>\n",
       "    <tr>\n",
       "      <th>185597</th>\n",
       "      <td>1</td>\n",
       "      <td>4</td>\n",
       "      <td>1</td>\n",
       "      <td>1</td>\n",
       "      <td>1</td>\n",
       "    </tr>\n",
       "    <tr>\n",
       "      <th>185598</th>\n",
       "      <td>1</td>\n",
       "      <td>4</td>\n",
       "      <td>0</td>\n",
       "      <td>1</td>\n",
       "      <td>1</td>\n",
       "    </tr>\n",
       "    <tr>\n",
       "      <th>188325</th>\n",
       "      <td>2</td>\n",
       "      <td>2</td>\n",
       "      <td>0</td>\n",
       "      <td>1</td>\n",
       "      <td>1</td>\n",
       "    </tr>\n",
       "    <tr>\n",
       "      <th>188326</th>\n",
       "      <td>2</td>\n",
       "      <td>2</td>\n",
       "      <td>2</td>\n",
       "      <td>1</td>\n",
       "      <td>1</td>\n",
       "    </tr>\n",
       "    <tr>\n",
       "      <th>188327</th>\n",
       "      <td>2</td>\n",
       "      <td>3</td>\n",
       "      <td>0</td>\n",
       "      <td>1</td>\n",
       "      <td>1</td>\n",
       "    </tr>\n",
       "    <tr>\n",
       "      <th>188328</th>\n",
       "      <td>2</td>\n",
       "      <td>3</td>\n",
       "      <td>1</td>\n",
       "      <td>1</td>\n",
       "      <td>1</td>\n",
       "    </tr>\n",
       "    <tr>\n",
       "      <th>188329</th>\n",
       "      <td>2</td>\n",
       "      <td>2</td>\n",
       "      <td>1</td>\n",
       "      <td>1</td>\n",
       "      <td>1</td>\n",
       "    </tr>\n",
       "    <tr>\n",
       "      <th>188330</th>\n",
       "      <td>2</td>\n",
       "      <td>1</td>\n",
       "      <td>2</td>\n",
       "      <td>1</td>\n",
       "      <td>1</td>\n",
       "    </tr>\n",
       "    <tr>\n",
       "      <th>188331</th>\n",
       "      <td>2</td>\n",
       "      <td>1</td>\n",
       "      <td>0</td>\n",
       "      <td>1</td>\n",
       "      <td>1</td>\n",
       "    </tr>\n",
       "    <tr>\n",
       "      <th>188332</th>\n",
       "      <td>2</td>\n",
       "      <td>5</td>\n",
       "      <td>2</td>\n",
       "      <td>1</td>\n",
       "      <td>1</td>\n",
       "    </tr>\n",
       "    <tr>\n",
       "      <th>188333</th>\n",
       "      <td>2</td>\n",
       "      <td>3</td>\n",
       "      <td>2</td>\n",
       "      <td>1</td>\n",
       "      <td>1</td>\n",
       "    </tr>\n",
       "    <tr>\n",
       "      <th>188334</th>\n",
       "      <td>2</td>\n",
       "      <td>5</td>\n",
       "      <td>0</td>\n",
       "      <td>1</td>\n",
       "      <td>1</td>\n",
       "    </tr>\n",
       "    <tr>\n",
       "      <th>188335</th>\n",
       "      <td>2</td>\n",
       "      <td>1</td>\n",
       "      <td>1</td>\n",
       "      <td>1</td>\n",
       "      <td>1</td>\n",
       "    </tr>\n",
       "    <tr>\n",
       "      <th>188336</th>\n",
       "      <td>2</td>\n",
       "      <td>5</td>\n",
       "      <td>1</td>\n",
       "      <td>1</td>\n",
       "      <td>1</td>\n",
       "    </tr>\n",
       "    <tr>\n",
       "      <th>188337</th>\n",
       "      <td>2</td>\n",
       "      <td>4</td>\n",
       "      <td>2</td>\n",
       "      <td>1</td>\n",
       "      <td>1</td>\n",
       "    </tr>\n",
       "    <tr>\n",
       "      <th>188338</th>\n",
       "      <td>2</td>\n",
       "      <td>4</td>\n",
       "      <td>0</td>\n",
       "      <td>1</td>\n",
       "      <td>1</td>\n",
       "    </tr>\n",
       "    <tr>\n",
       "      <th>188339</th>\n",
       "      <td>2</td>\n",
       "      <td>4</td>\n",
       "      <td>1</td>\n",
       "      <td>1</td>\n",
       "      <td>1</td>\n",
       "    </tr>\n",
       "  </tbody>\n",
       "</table>\n",
       "</div>"
      ],
      "text/plain": [
       "        GeoAreaName  Education level  Sex  Target  Indicator\n",
       "3403              3                0    1       0          0\n",
       "3404              3                0    2       0          0\n",
       "3405              3                0    0       0          0\n",
       "184403            0                3    2       1          1\n",
       "184404            0                2    0       1          1\n",
       "184405            0                3    0       1          1\n",
       "184406            0                2    2       1          1\n",
       "184407            0                3    1       1          1\n",
       "184408            0                5    2       1          1\n",
       "184409            0                5    1       1          1\n",
       "184410            0                2    1       1          1\n",
       "184411            0                5    0       1          1\n",
       "185593            1                3    0       1          1\n",
       "185594            1                3    2       1          1\n",
       "185595            1                3    1       1          1\n",
       "185596            1                4    2       1          1\n",
       "185597            1                4    1       1          1\n",
       "185598            1                4    0       1          1\n",
       "188325            2                2    0       1          1\n",
       "188326            2                2    2       1          1\n",
       "188327            2                3    0       1          1\n",
       "188328            2                3    1       1          1\n",
       "188329            2                2    1       1          1\n",
       "188330            2                1    2       1          1\n",
       "188331            2                1    0       1          1\n",
       "188332            2                5    2       1          1\n",
       "188333            2                3    2       1          1\n",
       "188334            2                5    0       1          1\n",
       "188335            2                1    1       1          1\n",
       "188336            2                5    1       1          1\n",
       "188337            2                4    2       1          1\n",
       "188338            2                4    0       1          1\n",
       "188339            2                4    1       1          1"
      ]
     },
     "execution_count": 187,
     "metadata": {},
     "output_type": "execute_result"
    }
   ],
   "source": [
    "X1"
   ]
  },
  {
   "cell_type": "code",
   "execution_count": 188,
   "metadata": {},
   "outputs": [],
   "source": [
    "Y1 = final_2019[\"Value\"]"
   ]
  },
  {
   "cell_type": "code",
   "execution_count": 190,
   "metadata": {},
   "outputs": [],
   "source": [
    "Y1;"
   ]
  },
  {
   "cell_type": "code",
   "execution_count": 194,
   "metadata": {},
   "outputs": [
    {
     "name": "stdout",
     "output_type": "stream",
     "text": [
      "X_train : (73879, 5), X_test: (31663, 5), y_train: (73879,), y_test: (31663,)\n"
     ]
    }
   ],
   "source": [
    "X_train_r, X_test_r, y_train_r, y_test_r = train_test_split(X,Y, test_size=0.30, random_state=2)\n",
    "print('X_train : {}, X_test: {}, y_train: {}, y_test: {}'.format(X_train_r.shape,X_test_r.shape,y_train_r.shape,y_test_r.shape))"
   ]
  },
  {
   "cell_type": "code",
   "execution_count": 195,
   "metadata": {},
   "outputs": [
    {
     "data": {
      "text/plain": [
       "RandomForestRegressor()"
      ]
     },
     "execution_count": 195,
     "metadata": {},
     "output_type": "execute_result"
    }
   ],
   "source": [
    "model_f = RandomForestRegressor()\n",
    "model_f.fit(X_train_r, y_train_r)"
   ]
  },
  {
   "cell_type": "code",
   "execution_count": 196,
   "metadata": {},
   "outputs": [
    {
     "name": "stdout",
     "output_type": "stream",
     "text": [
      "\n",
      "Training Result (F): \n",
      "\n",
      "RMSE: 12.99762394290397\n",
      "r2_score: 0.8809456517071487\n"
     ]
    }
   ],
   "source": [
    "pred_train= model_f.predict(X_train_r)\n",
    "print('\\nTraining Result (F): ')\n",
    "print('\\nRMSE: {}'.format(np.sqrt(mean_squared_error(y_train_r,pred_train))))\n",
    "print('r2_score: {}'.format(r2_score(y_train_r, pred_train)))"
   ]
  },
  {
   "cell_type": "code",
   "execution_count": 197,
   "metadata": {},
   "outputs": [
    {
     "name": "stdout",
     "output_type": "stream",
     "text": [
      "\n",
      "Testing Result (F): \n",
      "\n",
      "RMSE: 13.68694567270921\n",
      "r2_score: 0.8679072245789957\n"
     ]
    }
   ],
   "source": [
    "pred_test = model_f.predict(X_test_r)\n",
    "print('\\nTesting Result (F): ')\n",
    "print('\\nRMSE: {}'.format(np.sqrt(mean_squared_error(y_test_r,pred_test))))\n",
    "print('r2_score: {}'.format(r2_score(y_test_r, pred_test)))"
   ]
  },
  {
   "cell_type": "code",
   "execution_count": null,
   "metadata": {},
   "outputs": [],
   "source": []
  },
  {
   "cell_type": "code",
   "execution_count": 199,
   "metadata": {},
   "outputs": [
    {
     "name": "stdout",
     "output_type": "stream",
     "text": [
      "\n",
      "Testing Result (F): \n",
      "\n",
      "RMSE: 29.28854697564254\n",
      "r2_score: 0.015157313019203755\n"
     ]
    }
   ],
   "source": [
    "pred_test = model_f.predict(X1)\n",
    "print('\\nTesting Result (F): ')\n",
    "print('\\nRMSE: {}'.format(np.sqrt(mean_squared_error(Y1,pred_test))))\n",
    "print('r2_score: {}'.format(r2_score(pred_test, Y1)))"
   ]
  },
  {
   "cell_type": "code",
   "execution_count": null,
   "metadata": {},
   "outputs": [],
   "source": []
  },
  {
   "cell_type": "code",
   "execution_count": null,
   "metadata": {},
   "outputs": [],
   "source": []
  },
  {
   "cell_type": "code",
   "execution_count": null,
   "metadata": {},
   "outputs": [],
   "source": []
  },
  {
   "cell_type": "code",
   "execution_count": null,
   "metadata": {},
   "outputs": [],
   "source": []
  },
  {
   "cell_type": "code",
   "execution_count": null,
   "metadata": {},
   "outputs": [],
   "source": []
  },
  {
   "cell_type": "code",
   "execution_count": null,
   "metadata": {},
   "outputs": [],
   "source": []
  },
  {
   "cell_type": "code",
   "execution_count": null,
   "metadata": {},
   "outputs": [],
   "source": []
  },
  {
   "cell_type": "code",
   "execution_count": null,
   "metadata": {},
   "outputs": [],
   "source": []
  },
  {
   "cell_type": "code",
   "execution_count": null,
   "metadata": {},
   "outputs": [],
   "source": []
  },
  {
   "cell_type": "code",
   "execution_count": null,
   "metadata": {},
   "outputs": [],
   "source": []
  },
  {
   "cell_type": "code",
   "execution_count": null,
   "metadata": {},
   "outputs": [],
   "source": []
  },
  {
   "cell_type": "code",
   "execution_count": 94,
   "metadata": {},
   "outputs": [
    {
     "data": {
      "text/plain": [
       "array([2011, 2015, 2000, 2005, 2009, 2017, 2013, 2006, 2001, 2002, 2003,\n",
       "       2004, 2007, 2008, 2010, 2012, 2014, 2016, 2018])"
      ]
     },
     "execution_count": 94,
     "metadata": {},
     "output_type": "execute_result"
    }
   ],
   "source": [
    "final['TimePeriod'].unique()"
   ]
  },
  {
   "cell_type": "code",
   "execution_count": 115,
   "metadata": {},
   "outputs": [
    {
     "data": {
      "text/plain": [
       "(1356, 13)"
      ]
     },
     "execution_count": 115,
     "metadata": {},
     "output_type": "execute_result"
    }
   ],
   "source": [
    "final_2019.shape"
   ]
  },
  {
   "cell_type": "code",
   "execution_count": 49,
   "metadata": {},
   "outputs": [
    {
     "data": {
      "text/plain": [
       "array(['LOWSEC', 'GRAD23', 'PRIMAR', 'UPPSEC', nan, 'SECOND', 'PREPRI'],\n",
       "      dtype=object)"
      ]
     },
     "execution_count": 49,
     "metadata": {},
     "output_type": "execute_result"
    }
   ],
   "source": [
    "final_2018['Education level'].unique()"
   ]
  },
  {
   "cell_type": "code",
   "execution_count": null,
   "metadata": {},
   "outputs": [],
   "source": [
    "er = new_data['Age'].value_counts()\n",
    "er"
   ]
  },
  {
   "cell_type": "code",
   "execution_count": null,
   "metadata": {},
   "outputs": [],
   "source": [
    "new_data['Quantile'].unique()"
   ]
  },
  {
   "cell_type": "code",
   "execution_count": null,
   "metadata": {
    "scrolled": true
   },
   "outputs": [],
   "source": [
    "new_data.query(\"Age == '16-65'\")"
   ]
  },
  {
   "cell_type": "code",
   "execution_count": null,
   "metadata": {},
   "outputs": [],
   "source": [
    "corrMatrix = new_data.corr();\n",
    "sn.heatmap(corrMatrix, annot=True)\n",
    "plt.show()"
   ]
  },
  {
   "cell_type": "code",
   "execution_count": null,
   "metadata": {},
   "outputs": [],
   "source": [
    "new_data['Value'].dropna().hist(bins=100)"
   ]
  },
  {
   "cell_type": "code",
   "execution_count": null,
   "metadata": {},
   "outputs": [],
   "source": [
    "new_data.query('TimePeriod == 2018').Value.dropna().hist(bins=100)"
   ]
  },
  {
   "cell_type": "code",
   "execution_count": null,
   "metadata": {},
   "outputs": [],
   "source": [
    "new_data.query('Value <= 0 and TimePeriod == 2018').shape"
   ]
  },
  {
   "cell_type": "code",
   "execution_count": null,
   "metadata": {},
   "outputs": [],
   "source": []
  },
  {
   "cell_type": "markdown",
   "metadata": {},
   "source": [
    "## Filter and work on the country of focus\n",
    "\n",
    "#### These countries can be spelt differently sometimes in the dataset (Example Congo Dem. Rep. can also be spelt out as Congo Democratic Republic)"
   ]
  },
  {
   "cell_type": "code",
   "execution_count": 124,
   "metadata": {},
   "outputs": [],
   "source": [
    "#Country of focus\n",
    "countries = ['Afghanistan', 'Albania', 'Algeria', 'Angola', 'Antigua and Barbuda', 'Argentina', 'Armenia', 'Azerbaijan', 'Bangladesh', 'Belarus', 'Belize', 'Benin', 'Bhutan','Bolivia', 'Bosnia and Herzegovina', 'Botswana', 'Brazil', 'Bulgaria', 'Burkina Faso', 'Burundi', 'Cabo Verde', 'Cambodia', 'Cameroon', 'Central African Republic', 'Chad', 'Chile', 'China', 'Colombia', 'Comoros', 'Congo','Congo, Democratic Republic', 'Costa Rica', 'Croatia', \"Côte d'Ivoire\", 'Djibouti', 'Dominica', 'Dominican Republic', 'Ecuador', 'Egypt', 'El Salvador', 'Equatorial Guinea', 'Eritrea', 'Eswatini', 'Ethiopia', 'Fiji', 'Gabon', 'Gambia', 'Georgia', 'Ghana', 'Grenada', 'Guatemala', 'Guinea', 'Guinea-Bissau', 'Guyana', 'Haiti', 'Honduras', 'India', 'Indonesia', 'Iran (Islamic Republic of)', 'Iraq', 'Jamaica', 'Jordan', 'Kazakhstan', 'Kenya', 'Kiribati', 'Kosovo', 'Kyrgyzstan', \"Lao People's Democratic Republic\", 'Lebanon', 'Lesotho', 'Liberia', 'Libya', 'Madagascar', 'Malawi', 'Malaysia', 'Maldives', 'Mali', 'Marshall Islands', 'Mauritania', 'Mauritius', 'Mexico', 'Micronesia (Federated States of)','Moldova', 'Mongolia', 'Montenegro', 'Morocco', 'Mozambique', 'Myanmar', 'Namibia', 'Nauru', 'Nepal', 'Nicaragua', 'Niger', 'Nigeria', 'North Macedonia', 'Pakistan', 'Palau', 'Panama', 'Papua New Guinea', 'Paraguay', 'Peru', 'Philippines', 'Poland', 'Romania', 'Russian Federation', 'Rwanda', 'Saint Kitts and Nevis', 'Saint Lucia', 'Saint Vincent and the Grenadines', 'Samoa', 'Sao Tome and Principe', 'Senegal', 'Serbia', 'Seychelles', 'Sierra Leone', 'Solomon Islands', 'Somalia', 'South Africa', 'South Sudan', 'Sri Lanka', 'Sudan', 'Suriname', 'Syrian Arab Republic', 'Tajikistan', 'Thailand', 'Timor-Leste', 'Togo', 'Tonga', 'Trinidad and Tobago', 'Tunisia', 'Turkey', 'Turkmenistan', 'Tuvalu', 'Uganda', 'Ukraine', 'United Republic of Tanzania', 'Uruguay', 'Uzbekistan', 'Vanuatu','Venezuela', 'Vietnam', 'Yemen', 'Zambia', 'Zimbabwe']"
   ]
  },
  {
   "cell_type": "code",
   "execution_count": 165,
   "metadata": {
    "scrolled": true
   },
   "outputs": [],
   "source": [
    "final_2000_2018 = final_2000_2018[final_2000_2018['GeoAreaName'].isin(countries)]"
   ]
  },
  {
   "cell_type": "code",
   "execution_count": 166,
   "metadata": {},
   "outputs": [
    {
     "data": {
      "text/plain": [
       "(105542, 16)"
      ]
     },
     "execution_count": 166,
     "metadata": {},
     "output_type": "execute_result"
    }
   ],
   "source": [
    "final_2000_2018.shape"
   ]
  },
  {
   "cell_type": "code",
   "execution_count": 167,
   "metadata": {},
   "outputs": [],
   "source": [
    "final_2019 = final_2019[final_2019['GeoAreaName'].isin(countries)]"
   ]
  },
  {
   "cell_type": "code",
   "execution_count": 168,
   "metadata": {},
   "outputs": [
    {
     "data": {
      "text/plain": [
       "(33, 16)"
      ]
     },
     "execution_count": 168,
     "metadata": {},
     "output_type": "execute_result"
    }
   ],
   "source": [
    "final_2019.shape"
   ]
  },
  {
   "cell_type": "code",
   "execution_count": null,
   "metadata": {},
   "outputs": [],
   "source": [
    "for i,j in enumerate(countries):\n",
    "    print(i,j)"
   ]
  },
  {
   "cell_type": "code",
   "execution_count": null,
   "metadata": {},
   "outputs": [],
   "source": []
  }
 ],
 "metadata": {
  "kernelspec": {
   "display_name": "Python 3",
   "language": "python",
   "name": "python3"
  },
  "language_info": {
   "codemirror_mode": {
    "name": "ipython",
    "version": 3
   },
   "file_extension": ".py",
   "mimetype": "text/x-python",
   "name": "python",
   "nbconvert_exporter": "python",
   "pygments_lexer": "ipython3",
   "version": "3.7.3"
  }
 },
 "nbformat": 4,
 "nbformat_minor": 4
}
